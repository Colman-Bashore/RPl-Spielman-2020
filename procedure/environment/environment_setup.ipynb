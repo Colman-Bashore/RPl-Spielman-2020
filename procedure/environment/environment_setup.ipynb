{
 "cells": [
  {
   "cell_type": "markdown",
   "metadata": {
    "id": "lpUbJuwsgQJu"
   },
   "source": [
    "## Computational environment\n",
    "\n",
    "Lines starting with `!` run in your **terminal**, not in Python.\n",
    "\n",
    "### Start from scratch\n",
    "\n",
    "(If you are using a disposable environment (such as Google Colab), then you can skip to the next section.)\n",
    "\n",
    "You can use [`pipenv`](https://pipenv.pypa.io/en/latest/) to manage any packages you need.\n",
    "\n",
    "First install `pipenv` by running the chunk below:"
   ]
  },
  {
   "cell_type": "code",
   "execution_count": 1,
   "metadata": {
    "colab": {
     "base_uri": "https://localhost:8080/"
    },
    "id": "YCGcY3lah0BU",
    "outputId": "cc60f5ec-03d5-4722-f16b-b3e096a186f4"
   },
   "outputs": [
    {
     "name": "stdout",
     "output_type": "stream",
     "text": [
      "Collecting pipenv\n",
      "  Downloading pipenv-2023.8.22-py3-none-any.whl (2.7 MB)\n",
      "Collecting setuptools>=67.0.0\n",
      "  Downloading setuptools-68.1.2-py3-none-any.whl (805 kB)\n",
      "Collecting virtualenv>=20.24.2\n",
      "  Downloading virtualenv-20.24.3-py3-none-any.whl (3.0 MB)\n",
      "Requirement already satisfied: certifi in c:\\users\\josephh\\anaconda3\\lib\\site-packages (from pipenv) (2020.6.20)\n",
      "Collecting distlib<1,>=0.3.7\n",
      "  Downloading distlib-0.3.7-py2.py3-none-any.whl (468 kB)\n",
      "Collecting platformdirs<4,>=3.9.1\n",
      "  Downloading platformdirs-3.10.0-py3-none-any.whl (17 kB)\n",
      "Collecting filelock<4,>=3.12.2\n",
      "  Downloading filelock-3.12.2-py3-none-any.whl (10 kB)\n",
      "Installing collected packages: setuptools, distlib, platformdirs, filelock, virtualenv, pipenv\n",
      "Successfully installed distlib-0.3.7 filelock-3.12.2 pipenv-2023.8.22 platformdirs-3.10.0 setuptools-68.1.2 virtualenv-20.24.3\n"
     ]
    },
    {
     "name": "stderr",
     "output_type": "stream",
     "text": [
      "  WARNING: The script virtualenv.exe is installed in 'C:\\Users\\josephh\\AppData\\Roaming\\Python\\Python38\\Scripts' which is not on PATH.\n",
      "  Consider adding this directory to PATH or, if you prefer to suppress this warning, use --no-warn-script-location.\n",
      "  WARNING: The scripts pipenv-resolver.exe and pipenv.exe are installed in 'C:\\Users\\josephh\\AppData\\Roaming\\Python\\Python38\\Scripts' which is not on PATH.\n",
      "  Consider adding this directory to PATH or, if you prefer to suppress this warning, use --no-warn-script-location.\n"
     ]
    }
   ],
   "source": [
    "!pip install --user pipenv"
   ]
  },
  {
   "cell_type": "markdown",
   "metadata": {
    "id": "F-1ndcK1iFYD"
   },
   "source": [
    "Then, install the packages you need using `pipenv install`.\n",
    "\n",
    "We will install `pyhere`, a package to simplify directory management.\n",
    "\n",
    "Check out its documentation [here](https://pypi.org/project/pyhere/).\n",
    "\n",
    "**Note**: if you run into the error `pipenv: command not found`, then replace `pipenv` with `python -m pipenv`."
   ]
  },
  {
   "cell_type": "code",
   "execution_count": 2,
   "metadata": {
    "colab": {
     "base_uri": "https://localhost:8080/"
    },
    "id": "pKr_XDW4iEa5",
    "outputId": "eba58871-fe7d-4f2f-8268-9fa503f92d07"
   },
   "outputs": [
    {
     "name": "stdout",
     "output_type": "stream",
     "text": [
      "Installing pyhere...\n",
      "Resolving pyhere...\n",
      "Added pyhere to Pipfile's [packages] ...\n",
      "Installation Succeeded\n",
      "Building requirements...\n",
      "Resolving dependencies...\n",
      "Success!\n",
      "Installing dependencies from Pipfile.lock (a7815f)...\n",
      "To activate this project's virtualenv, run pipenv shell.\n",
      "Alternatively, run a command inside the virtualenv with pipenv run.\n"
     ]
    },
    {
     "name": "stderr",
     "output_type": "stream",
     "text": [
      "Creating a virtualenv for this project...\n",
      "Pipfile: D:\\github\\hegsrr\\RPl-Spielman-2020\\procedure\\environment\\Pipfile\n",
      "Using default python from C:\\Users\\josephh\\Anaconda3\\python.exe (3.8.5) to create virtualenv...\n",
      "created virtual environment CPython3.8.5.final.0-64 in 5503ms\n",
      "  creator CPython3Windows(dest=C:\\Users\\josephh\\.virtualenvs\\environment-lIhmsui1, clear=False, no_vcs_ignore=False, global=False)\n",
      "  seeder FromAppData(download=False, pip=bundle, setuptools=bundle, wheel=bundle, via=copy, app_data_dir=C:\\Users\\josephh\\AppData\\Local\\pypa\\virtualenv)\n",
      "    added seed packages: pip==23.2.1, setuptools==68.0.0, wheel==0.41.1\n",
      "  activators BashActivator,BatchActivator,FishActivator,NushellActivator,PowerShellActivator,PythonActivator\n",
      "\n",
      "Successfully created virtual environment!\n",
      "Virtualenv location: C:\\Users\\josephh\\.virtualenvs\\environment-lIhmsui1\n",
      "Creating a Pipfile for this project...\n",
      "Pipfile.lock not found, creating...\n",
      "Locking [packages] dependencies...\n",
      "Warning: INFO:pipenv.patched.pip._internal.operations.prepare:Collecting pyhere (from -r C:\\Users\\josephh\\AppData\\Local\\Temp\\pipenv-f9ejokcw-requirements\\pipenv-6lv6uqko-constraints.txt (line 2))\n",
      "INFO:pipenv.patched.pip._internal.network.download:Downloading pyhere-1.0.0-py3-none-any.whl (4.2 kB)\n",
      "Locking [dev-packages] dependencies...\n",
      "Updated Pipfile.lock (22f38dcfb673499cd8431132b6b53537cae342146e627015ed538b42eca7815f)!\n"
     ]
    }
   ],
   "source": [
    "!python -m pipenv install pyhere"
   ]
  },
  {
   "cell_type": "markdown",
   "metadata": {
    "id": "26gqe2mtjkwA"
   },
   "source": [
    "When you installed `pyhere`, `pipenv` created a virtual environment for you.\n",
    "\n",
    "You can see the virtualenv's location given above:\n",
    "\n",
    "```\n",
    "Virtualenv location: /root/.local/share/virtualenvs/content-cQIIIOO2\n",
    "```\n",
    "\n",
    "Next, follow [these instructions](https://jupyterlab.readthedocs.io/en/stable/getting_started/installation.html#pipenv) to launch Jupyter using the `pipenv` environment you just created."
   ]
  },
  {
   "cell_type": "markdown",
   "metadata": {
    "id": "o5wVGooof91k"
   },
   "source": [
    "### Get existing packages\n",
    "If you already have some code that imports Python packages, the `pigar` package can help you figure out which packages you are using.\n",
    "\n",
    "Comment out the first line to run the code below.\n",
    "Run the code once, when you are finished with the analysis.\n",
    "This will generate a `requirements.txt` into `/procedure/environment` folder."
   ]
  },
  {
   "cell_type": "code",
   "execution_count": 4,
   "metadata": {
    "colab": {
     "base_uri": "https://localhost:8080/"
    },
    "id": "0wzieMywf91l",
    "outputId": "3fca492a-80fc-454d-bfe8-4243253f2c88"
   },
   "outputs": [
    {
     "name": "stdout",
     "output_type": "stream",
     "text": [
      "Collecting pigar\n",
      "  Downloading pigar-2.1.1-py3-none-any.whl (23.4 MB)\n",
      "Collecting aiohttp>=3.8\n",
      "  Downloading aiohttp-3.8.5-cp38-cp38-win_amd64.whl (327 kB)\n",
      "Collecting nbformat>=5.7\n",
      "  Downloading nbformat-5.9.2-py3-none-any.whl (77 kB)\n",
      "Collecting click>=8.1\n",
      "  Downloading click-8.1.7-py3-none-any.whl (97 kB)\n",
      "Requirement already satisfied: attrs>=17.3.0 in c:\\users\\josephh\\anaconda3\\lib\\site-packages (from aiohttp>=3.8->pigar) (20.3.0)\n",
      "Collecting charset-normalizer<4.0,>=2.0\n",
      "  Downloading charset_normalizer-3.2.0-cp38-cp38-win_amd64.whl (96 kB)\n",
      "Collecting aiosignal>=1.1.2\n",
      "  Downloading aiosignal-1.3.1-py3-none-any.whl (7.6 kB)\n",
      "Collecting multidict<7.0,>=4.5\n",
      "  Downloading multidict-6.0.4-cp38-cp38-win_amd64.whl (28 kB)\n",
      "Collecting frozenlist>=1.1.1\n",
      "  Downloading frozenlist-1.4.0-cp38-cp38-win_amd64.whl (44 kB)\n",
      "Collecting async-timeout<5.0,>=4.0.0a3\n",
      "  Downloading async_timeout-4.0.3-py3-none-any.whl (5.7 kB)\n",
      "Collecting yarl<2.0,>=1.0\n",
      "  Downloading yarl-1.9.2-cp38-cp38-win_amd64.whl (61 kB)\n",
      "Requirement already satisfied: jsonschema>=2.6 in c:\\users\\josephh\\anaconda3\\lib\\site-packages (from nbformat>=5.7->pigar) (3.2.0)\n",
      "Collecting traitlets>=5.1\n",
      "  Downloading traitlets-5.9.0-py3-none-any.whl (117 kB)\n",
      "Collecting fastjsonschema\n",
      "  Downloading fastjsonschema-2.18.0-py3-none-any.whl (23 kB)\n",
      "Requirement already satisfied: jupyter-core in c:\\users\\josephh\\anaconda3\\lib\\site-packages (from nbformat>=5.7->pigar) (4.6.3)\n",
      "Requirement already satisfied: colorama; platform_system == \"Windows\" in c:\\users\\josephh\\anaconda3\\lib\\site-packages (from click>=8.1->pigar) (0.4.4)\n",
      "Requirement already satisfied: idna>=2.0 in c:\\users\\josephh\\anaconda3\\lib\\site-packages (from yarl<2.0,>=1.0->aiohttp>=3.8->pigar) (2.10)\n",
      "Requirement already satisfied: six>=1.11.0 in c:\\users\\josephh\\anaconda3\\lib\\site-packages (from jsonschema>=2.6->nbformat>=5.7->pigar) (1.15.0)\n",
      "Requirement already satisfied: setuptools in c:\\users\\josephh\\appdata\\roaming\\python\\python38\\site-packages (from jsonschema>=2.6->nbformat>=5.7->pigar) (68.1.2)\n",
      "Requirement already satisfied: pyrsistent>=0.14.0 in c:\\users\\josephh\\anaconda3\\lib\\site-packages (from jsonschema>=2.6->nbformat>=5.7->pigar) (0.17.3)\n",
      "Requirement already satisfied: pywin32>=1.0; sys_platform == \"win32\" in c:\\users\\josephh\\anaconda3\\lib\\site-packages (from jupyter-core->nbformat>=5.7->pigar) (227)\n",
      "Installing collected packages: charset-normalizer, frozenlist, aiosignal, multidict, async-timeout, yarl, aiohttp, traitlets, fastjsonschema, nbformat, click, pigar\n",
      "  Attempting uninstall: traitlets\n",
      "    Found existing installation: traitlets 5.0.5\n",
      "    Uninstalling traitlets-5.0.5:\n",
      "      Successfully uninstalled traitlets-5.0.5\n",
      "  Attempting uninstall: nbformat\n",
      "    Found existing installation: nbformat 5.0.8\n",
      "    Uninstalling nbformat-5.0.8:\n",
      "      Successfully uninstalled nbformat-5.0.8\n",
      "  Attempting uninstall: click\n",
      "    Found existing installation: click 7.1.2\n",
      "    Uninstalling click-7.1.2:\n",
      "      Successfully uninstalled click-7.1.2\n",
      "Successfully installed aiohttp-3.8.5 aiosignal-1.3.1 async-timeout-4.0.3 charset-normalizer-3.2.0 click-8.1.7 fastjsonschema-2.18.0 frozenlist-1.4.0 multidict-6.0.4 nbformat-5.9.2 pigar-2.1.1 traitlets-5.9.0 yarl-1.9.2\n",
      "Requirements file has been overwritten, no difference."
     ]
    },
    {
     "name": "stderr",
     "output_type": "stream",
     "text": [
      "C:\\Users\\josephh\\Anaconda3\\lib\\site-packages\\pigar\\_vendor\\pip\\_vendor\\distlib\\database.py:173: UserWarning: Unable to read distribution at C:\\Users\\josephh\\Anaconda3\\Lib\\site-packages\\pylint-2.6.0.dist-info, perhaps due to bad metadata: '.*' not allowed for '>=' constraints\n",
      "  for dist in self._yield_distributions():\n",
      "10:48:28 distribution \"PyYAML\" may be not editable: NotADirectoryError(20, 'The directory name is invalid', None, 267, None)\n",
      "10:48:28 distribution \"boto\" may be not editable: NotADirectoryError(20, 'The directory name is invalid', None, 267, None)\n",
      "10:48:29 distribution \"entrypoints\" may be not editable: NotADirectoryError(20, 'The directory name is invalid', None, 267, None)\n",
      "10:48:29 distribution \"ipython_genutils\" may be not editable: NotADirectoryError(20, 'The directory name is invalid', None, 267, None)\n",
      "10:48:29 distribution \"llvmlite\" may be not editable: NotADirectoryError(20, 'The directory name is invalid', None, 267, None)\n",
      "10:48:29 distribution \"locket\" may be not editable: NotADirectoryError(20, 'The directory name is invalid', None, 267, None)\n",
      "10:48:29 distribution \"menuinst\" may be not editable: NotADirectoryError(20, 'The directory name is invalid', None, 267, None)\n",
      "10:48:29 distribution \"mpmath\" may be not editable: NotADirectoryError(20, 'The directory name is invalid', None, 267, None)\n",
      "10:48:30 distribution \"pycosat\" may be not editable: NotADirectoryError(20, 'The directory name is invalid', None, 267, None)\n",
      "10:48:30 distribution \"pycurl\" may be not editable: NotADirectoryError(20, 'The directory name is invalid', None, 267, None)\n"
     ]
    },
    {
     "name": "stdout",
     "output_type": "stream",
     "text": [
      "\n",
      "Requirements has been written to D:\\github\\hegsrr\\RPl-Spielman-2020\\procedure\\environment\\requirements2.txt.\n"
     ]
    },
    {
     "name": "stderr",
     "output_type": "stream",
     "text": [
      "10:48:30 distribution \"pyreadline\" may be not editable: NotADirectoryError(20, 'The directory name is invalid', None, 267, None)\n",
      "10:48:30 distribution \"ruamel_yaml\" may be not editable: NotADirectoryError(20, 'The directory name is invalid', None, 267, None)\n",
      "10:48:32 distribution \"wincertstore\" may be not editable: NotADirectoryError(20, 'The directory name is invalid', None, 267, None)\n"
     ]
    }
   ],
   "source": [
    "#%%script echo skipping\n",
    "!pip install pigar\n",
    "!python -m pigar generate -f requirements2.txt"
   ]
  },
  {
   "cell_type": "markdown",
   "metadata": {
    "id": "6whdTQbphAFN"
   },
   "source": [
    "#### Cleanup\n",
    "Depending on your setup, the list generated by `pigar` may require cleanup.\n",
    "\n",
    "The goal of cleanup is for the `requirements.txt` to contain only comments (lines starting with #) and lines of the format `[package]==[version]`.\n",
    "\n",
    "Thus, version `1.15.post1` of the `CensusData` package can be represented as `CensusData==1.15.post1`.\n",
    "\n",
    "An example is packages installed with `conda`.\n",
    "These entries may look somewhat like this:\n",
    "```python\n",
    "# Editable install with no version control (pandas==1.3.5)\n",
    "-e /cvmfs/cybergis.illinois.edu/software/conda/cybergisx/python3-0.9.0/lib/python3.8/site-packages/pandas-1.3.5-py3.8.egg-info\n",
    "```\n",
    "Since this essentially installs `pandas` version `1.3.5`, you can replace these two lines with `pandas==1.3.5`.\n",
    "\n",
    "### Virtual environments\n",
    "Alternatively, you can create environments with other tools, such [venv](https://docs.python.org/3/library/venv.html) or [conda](https://conda.io/projects/conda/en/latest/user-guide/tasks/manage-environments.html).\n",
    "\n",
    "Be sure to let Jupyter know what environment you are using - search for \"venv with jupyter\", for example."
   ]
  }
 ],
 "metadata": {
  "colab": {
   "provenance": []
  },
  "kernelspec": {
   "display_name": "Python 3",
   "language": "python",
   "name": "python3"
  },
  "language_info": {
   "codemirror_mode": {
    "name": "ipython",
    "version": 3
   },
   "file_extension": ".py",
   "mimetype": "text/x-python",
   "name": "python",
   "nbconvert_exporter": "python",
   "pygments_lexer": "ipython3",
   "version": "3.8.5"
  }
 },
 "nbformat": 4,
 "nbformat_minor": 4
}
