{
 "cells": [
  {
   "cell_type": "markdown",
   "id": "0c3494c0-9db9-44d9-8080-acc1eed4cdc6",
   "metadata": {},
   "source": [
    "# Replication of Spielman et al.’s 2020 Evaluation of the Social Vulnerability Index: Analysis Plan\n",
    "### Authors\n",
    "\n",
    "- Liam Smith\\*, lwsmith@middlebury.edu, @Liam-W-Smith, Middlebury College\n",
    "- Joseph Holler, josephh@middlebury.edu , @josephholler, [ORCID link](https://orcid.org/0000-0002-2381-2699), Middlebury College\n",
    "\n",
    "\\* Corresponding author and creator\n",
    "\n",
    "Version 1.1 | Created 2023-07-12 | Last Updated 2023-07-21  "
   ]
  },
  {
   "cell_type": "markdown",
   "id": "35d86e61-715e-4862-a05c-898c635d4732",
   "metadata": {},
   "source": [
    "### Abstract\n",
    "\n",
    "This study is a *replication* of:\n",
    "\n",
    "> Spielman, S. E., Tuccillo, J., Folch, D. C., Schweikert, A., Davies, R., Wood, N., & Tate, E. (2020). Evaluating Social Vulnerability Indicators: Criteria and their Application to the Social Vulnerability Index. Natural Hazards, 100(1), 417–436. https://doi.org/10.1007/s11069-019-03820-z\n",
    "\n",
    "The Spielman et al. (2020) paper is in turn a replication of:\n",
    "\n",
    "> Cutter, S. L., Boruff, B. J., & Shirley, W. L. (2003). Social vulnerability to environmental hazards. Social Science Quarterly, 84(2), 242–261. https://doi.org/10.1111/1540-6237.8402002\n",
    "\n",
    "Spielman et al. (2020) developed methods to evaluate the internal consistency and construct validity of the Cutter, Boruff and Shirley (2003) Social Vulnerability Index (SoVI).\n",
    "First, they reproduce a national SoVI model and validate it against an SPSS procedure provided by the original research group (Hazards Vulnerability Research Institute at University of South Carolina).\n",
    "The original SoVI uses 42 independent z-score normalized variables from the U.S. Census, reduces the data to factors using Principal Components Analysis, selects the first eleven factors, inverts factors with inverse relationships to social vulnerability, and sums the factors together to produce a SoVI score.\n",
    "The reproduced SoVI model was slightly different than the original model due to changes in U.S. Census data, using only 28 variables.\n",
    "\n",
    "Spielman et al. modify the geographic extent of the SoVI calculation by calculating SoVI on a national extent, and then recalculating for each of ten Federal Emergency Management Agency (FEMA) regions, and again for a single state or cluster of states within each of the ten regions, resulting in 21 total indices.\n",
    "Internal consistency is assessed by calculating the spearman rank correlation coefficient of the SoVI score for counties in the state model compared to the FEMA region model and national model.\n",
    "Construct validity is assessed by summing the loadings for each input variable across the PCA factors in each model and calculating the variables sign (positive/negative) and the rank of the variable's total loading compared to the other variables.\n",
    "These signs and ranks are summarized across all 21 versions of the SoVI model with regard to the number of times the sign is different from the national model and the distributions of ranks.\n",
    "\n",
    "In this replication study, we extend Spielman et al's work by addressing the robustness of SoVI in the temporal dimension. \n",
    "Specifically, we construct a SoVI model using 5-year ACS data published each year between 2012 and 2021, resulting in 10 SoVI models altogether.\n",
    "Using time as our independent variable and z-score standardized SoVI scores as our dependent variable, we assess internal consistency by constructing a linear regression model for every county in our spatial extent.\n",
    "Predicting SoVI score using the year allows us to control for changes in social vulnerability over time.\n",
    "We calculate summary statistics and create a map of standard errors for our regression coefficient in order to interrogate SoVI's robustness oer time.\n",
    "Additionally, similar to Spielman et al., we investigate theoretical consistency by summing the loadings for each input variable across the PCA factors in each model and calculating the variables sign (positive/negative) and the rank of the variable's total loading compared to the other variables.\n",
    "Since we vary time rather than space, we use a rank chart to display our results rather than a table of summary statistics like Spielman et al.\n",
    "\n",
    "The code in this Jupyter notebook report is adapted from Spielman et al.'s GitHub repository.\n",
    "The original study states the intended open source permissions in the acknowledgements: \"To facilitate advances to current practice and to allow replication of our results, all of the code and data used in this analysis is open source and available at (https://github.com/geoss/sovi-validity).\n",
    "Funding was provided by the US National Science Foundation (Award No. 1333271) and the U.S. Geological Survey Land Change Science Program.\""
   ]
  },
  {
   "cell_type": "markdown",
   "id": "0944d724-4b97-4c04-96f4-b4fa4a451d1a",
   "metadata": {},
   "source": [
    "### Study Metadata\n",
    "\n",
    "- `Key words`:Social vulnerability, social indicators, Principal Component Analysis, reproducibility\n",
    "- `Subject`: Social and Behavioral Sciences: Geography: Human Geography\n",
    "- `Date created`: June 19, 2023\n",
    "- `Date modified`: August 15, 2023\n",
    "- `Spatial Coverage`: United States, excluding Puerto Rico\n",
    "- `Spatial Resolution`: Counties and county equivalents\n",
    "- `Spatial Reference System`: EPSG:4269\n",
    "- `Temporal Coverage`: 2008-2021 (data published in years 2012-2021)\n",
    "- `Temporal Resolution`: 5-year estimates, compiled annually\n",
    "- `Funding Name`: NSF Division of Behavioral and Cognitive Sciences\n",
    "- `Funding Title`: Transforming Theory and STEM Education Through Reproductions and Replications in the Geographical Sciences\n",
    "- `Award info URI`: https://www.nsf.gov/awardsearch/showAward?AWD_ID=2049837\n",
    "- `Award number`: 2049837\n",
    "\n",
    "#### Original study spatio-temporal metadata\n",
    "\n",
    "- `Spatial Coverage`: United States, excluding Puerto Rico\n",
    "- `Spatial Resolution`: Counties and county equivalents\n",
    "- `Spatial Reference System`: EPSG:4269\n",
    "- `Temporal Coverage`: 2008 - 2012 (data is the 2012 5-year ACS)\n",
    "- `Temporal Resolution`: One-time measurement, does not address change over time\n"
   ]
  },
  {
   "cell_type": "markdown",
   "id": "8ee99412-6031-438b-b24f-50ab3da57b46",
   "metadata": {},
   "source": [
    "## Study design\n",
    "\n",
    "In our previous work, we computationally reproduced Spielman et al's original paper using the code provided in their Github repository (https://github.com/geoss/sovi-validity).\n",
    "A report on our reproduction is available online (https://osf.io/4s62b), and the code is included in our GitHub repository (https://github.com/HEGSRR/RPl-Spielman-2020).\n",
    "\n",
    "The original paper was a replication study testing the sensitivity of SoVI to changes in geographic extent.\n",
    "Spielman et al addressed the following hypotheses in their work:\n",
    "\n",
    "> OR-H1: SoVI is internally inconsistent.\n",
    "\n",
    "To address this hypothesis, Spielman et al illustrated that SoVI is not robust to changes in geographic extent by calculating SoVI scores for ten selected states or groups of states on three geographic extents: national, FEMA region, and state(s).\n",
    "The counties within the state(s) of interest were then selected and ranked according to their SoVI score.\n",
    "OR-H1 was tested by calculating Spearman's rank correlation between the state and FEMA region models and between the state and national models.\n",
    "\n",
    "> OR-H2: SoVI is theoretically inconsistent.\n",
    "\n",
    "To address this hypothesis, Spielman et al used the same SoVI models as described under OR-H1.\n",
    "For each model, they summed all of the PCA factors together to determine the net influence of each variable in each model.\n",
    "Then they recorded the signs of each variable and calculated the number of deviations of the ten state and FEMA region models from the national model.\n",
    "They also ranked the variables by absolute value for each model and calculated summary statistics regarding the distribution of ranks for each variable amongst all models.\n",
    "Spielman et al did not use a particular statistical method to test OR-H2, but illustrated substantial disagreements between variable rankings and signs amongst the 21 SoVI models.\n",
    "\n",
    "In our replication, we begin with the same hypotheses as Spielman et al, but we will test those hypotheses by varying the temporal extent rather than spatial extent.\n",
    "\n",
    "> RPl-H1: SoVI is internally inconsistent.\n",
    "\n",
    "To address this hypothesis, we will calculate SoVI scores for the entire nation (excluding Puerto Rico) using 5-year ACS data published each year between 2012 and 2021.\n",
    "In Spielman et al.'s analysis that varies spatial extent, we expect rankings in a given subregion to be identical regardless of the spatial extent, because the attributes in the area and the factors causing vulnerability remain constant.\n",
    "This is no longer true when we vary time, because we expect some areas to become more or less vulnerable over time.\n",
    "Since we do not expect rankings to remain constant, Spearman's rank correlation coefficient is no longer an appropriate model for us.\n",
    "Instead, we seek to analyze consistency of SoVI scores while controlling for change over time.\n",
    "To do this, we construct a linear regression model for every county in our spatial extent using time as our independent variable and z-score standardized SoVI scores as our dependent variable.\n",
    "We calculate summary statistics and create a map of standard errors of our regression coefficient in order to interrogate SoVI's robustness over time.\n",
    "\n",
    "> RPl-H2: SoVI is theoretically inconsistent.\n",
    "\n",
    "To address this hypothesis, we will use the same SoVI models as described under RPl-H1.\n",
    "Like Spielman et al., we sum all of the PCA components together to determine the net influence of each variable in each model.\n",
    "We conduct an analogous analysis to Spielman et al.'s, calculating each variable's sign (positive/negative) and rank compared to the other variables, but since we address change over time, we present our results in the form of a rank chart rather than a table of summary statistics.\n",
    "Furthermore, rather than ranking the magnitude of coefficients, we split each model into positive and negative coefficients, and rank them separately.\n",
    "This allows us to present information about sign and magnitude of coefficients in the same graph."
   ]
  },
  {
   "cell_type": "markdown",
   "id": "4ccb0c41-8caa-4d84-835d-d297ff776126",
   "metadata": {},
   "source": [
    "## Materials and procedure\n",
    "\n",
    "### Computational environment\n",
    "\n",
    "Currently, we are using a [2020 MacBook Pro](https://support.apple.com/kb/SP818?locale=en_US) running on macOS Ventura 13.3.1.\n",
    "We anticipate collaborators working on the project from different computers and different operating systems, and we seek to containerize the project so that scripts can be run on many different machines.\n",
    "\n",
    "From the reproduction study, our environment consisted of Python 3.9.16 and the software packages listed in [requirements.txt](../environment/requirements.txt).\n",
    "We are working in the same software environment and may add additional software packages if needed for our analysis.\n",
    "\n",
    "To set up this environment on another machine, one should install the correct version of Python and run the cell below to install the correct package versions.\n",
    "If a user wishes to create a self-contained environment, they should explore [venv](https://docs.python.org/3/library/venv.html), [conda](https://docs.conda.io/en/latest/), or [pipenv](https://pipenv.pypa.io/en/latest/) virtual environments."
   ]
  },
  {
   "cell_type": "code",
   "execution_count": 1,
   "id": "8368471f-7098-4d60-bbc9-353e50def1d9",
   "metadata": {},
   "outputs": [
    {
     "name": "stdout",
     "output_type": "stream",
     "text": [
      "skipping # comment this line out to run this cell\n"
     ]
    }
   ],
   "source": [
    "%%script echo skipping # comment this line out to run this cell\n",
    "!pip install -r ../environment/requirements.txt"
   ]
  },
  {
   "cell_type": "code",
   "execution_count": 2,
   "id": "113c5897-4a59-45ed-9dfb-df517762143a",
   "metadata": {},
   "outputs": [],
   "source": [
    "# Import modules, define directories\n",
    "import pygris\n",
    "import pandas as pd\n",
    "import geopandas as gpd\n",
    "from pygris.data import get_census\n",
    "from pygris import counties\n",
    "from pyhere import here\n",
    "import numpy as np\n",
    "import libpysal as lps\n",
    "import lxml\n",
    "import tabulate\n",
    "from scipy.stats import spearmanr\n",
    "from scipy.stats.mstats import zscore as ZSCORE\n",
    "from scipy.stats import rankdata\n",
    "import mdp as MDP\n",
    "from operator import itemgetter\n",
    "import copy\n",
    "from matplotlib.colors import ListedColormap\n",
    "from matplotlib import patheffects as pe\n",
    "import matplotlib.pyplot as plt\n",
    "from IPython import display\n",
    "from IPython.display import Markdown, Latex\n",
    "\n",
    "pd.set_option(\"chained_assignment\", None)\n",
    "\n",
    "path = {\n",
    "    \"dscr\": here(\"data\", \"scratch\"),\n",
    "    \"drpub\": here(\"data\", \"raw\", \"public\", \"spielman\", \"input\"),\n",
    "    \"drpub2\": here(\"data\", \"raw\", \"public\"),\n",
    "    \"drpriv\": here(\"data\", \"raw\", \"private\"),\n",
    "    \"ddpub\": here(\"data\", \"derived\", \"public\", \"version1\"),\n",
    "    \"ddpriv\": here(\"data\", \"derived\", \"private\"),\n",
    "    \"rfig\": here(\"results\", \"figures\"),\n",
    "    \"roth\": here(\"results\", \"other\"),\n",
    "    \"rtab\": here(\"results\", \"tables\"),\n",
    "    \"og_out\": here(\"data\", \"raw\", \"public\", \"spielman\", \"output\"),\n",
    "    \"dmet\": here(\"data\", \"metadata\")\n",
    "}"
   ]
  },
  {
   "cell_type": "code",
   "execution_count": 3,
   "id": "84769898-6733-4f30-a7e6-9ac384edd57f",
   "metadata": {},
   "outputs": [
    {
     "name": "stdout",
     "output_type": "stream",
     "text": [
      "skipping # Save computational environment\n"
     ]
    }
   ],
   "source": [
    "%%script echo skipping # Save computational environment\n",
    "# Note that this approach is not perfect -- it may miss some packages\n",
    "!pip install pigar\n",
    "!python -m pigar generate"
   ]
  },
  {
   "cell_type": "markdown",
   "id": "ae0da483-07cc-494a-aa07-5896779b0a37",
   "metadata": {},
   "source": [
    "### Data and variables\n",
    "\n",
    "For Spielman et al.'s original study, the data sources were the 2008-2012 5-year American Community Survey and the 2010 decennial census.\n",
    "Spielman et al. downloaded their data from Social Explorer; in our replication, we pull our data directly from the census into Python via a census API package known as pygris.\n",
    "These variables are based on the original work by Cutter et al. to create SoVI, and cover a wide range of social and demographic information, the particulars of which are described in the data dictionary below.\n",
    "\n",
    "Since there are so many variables, we print their label, alias, and description just one time.\n",
    "To view information regarding the data type, domain, missing data values, and missing data frequency for each individual dataset, please see their individual metadata files."
   ]
  },
  {
   "cell_type": "code",
   "execution_count": 72,
   "id": "b46b45e2-9a5c-4dce-8065-07376596420f",
   "metadata": {},
   "outputs": [
    {
     "data": {
      "text/html": [
       "<div>\n",
       "<style scoped>\n",
       "    .dataframe tbody tr th:only-of-type {\n",
       "        vertical-align: middle;\n",
       "    }\n",
       "\n",
       "    .dataframe tbody tr th {\n",
       "        vertical-align: top;\n",
       "    }\n",
       "\n",
       "    .dataframe thead th {\n",
       "        text-align: right;\n",
       "    }\n",
       "</style>\n",
       "<table border=\"1\" class=\"dataframe\">\n",
       "  <thead>\n",
       "    <tr style=\"text-align: right;\">\n",
       "      <th></th>\n",
       "      <th>Label</th>\n",
       "      <th>Alias</th>\n",
       "      <th>Definition</th>\n",
       "    </tr>\n",
       "  </thead>\n",
       "  <tbody>\n",
       "    <tr>\n",
       "      <th>0</th>\n",
       "      <td>GEOID</td>\n",
       "      <td>FIPS code unique identifier</td>\n",
       "      <td>Unique code for every county and county-equiva...</td>\n",
       "    </tr>\n",
       "    <tr>\n",
       "      <th>1</th>\n",
       "      <td>B01002_001E</td>\n",
       "      <td>median age</td>\n",
       "      <td>MEDIAN AGE BY SEX: Estimate!!Median age!!Total</td>\n",
       "    </tr>\n",
       "    <tr>\n",
       "      <th>2</th>\n",
       "      <td>B03002_001E</td>\n",
       "      <td>total population of respondents to race/ethnicity</td>\n",
       "      <td>HISPANIC OR LATINO ORIGIN BY RACE: Estimate!!T...</td>\n",
       "    </tr>\n",
       "    <tr>\n",
       "      <th>3</th>\n",
       "      <td>B03002_004E</td>\n",
       "      <td>total Black population</td>\n",
       "      <td>HISPANIC OR LATINO ORIGIN BY RACE: Estimate!!T...</td>\n",
       "    </tr>\n",
       "    <tr>\n",
       "      <th>4</th>\n",
       "      <td>B03002_005E</td>\n",
       "      <td>total Native American population</td>\n",
       "      <td>HISPANIC OR LATINO ORIGIN BY RACE: Estimate!!T...</td>\n",
       "    </tr>\n",
       "    <tr>\n",
       "      <th>5</th>\n",
       "      <td>B03002_006E</td>\n",
       "      <td>total Asian population</td>\n",
       "      <td>HISPANIC OR LATINO ORIGIN BY RACE: Estimate!!T...</td>\n",
       "    </tr>\n",
       "    <tr>\n",
       "      <th>6</th>\n",
       "      <td>B03002_012E</td>\n",
       "      <td>total Latinx population</td>\n",
       "      <td>HISPANIC OR LATINO ORIGIN BY RACE: Estimate!!T...</td>\n",
       "    </tr>\n",
       "    <tr>\n",
       "      <th>7</th>\n",
       "      <td>B06001_002E</td>\n",
       "      <td>total population under 5 years of age</td>\n",
       "      <td>PLACE OF BIRTH BY AGE IN THE UNITED STATES: Es...</td>\n",
       "    </tr>\n",
       "    <tr>\n",
       "      <th>8</th>\n",
       "      <td>B09020_001E</td>\n",
       "      <td>total population over 65 years of age</td>\n",
       "      <td>RELATIONSHIP BY HOUSEHOLD TYPE (INCLUDING LIVI...</td>\n",
       "    </tr>\n",
       "    <tr>\n",
       "      <th>9</th>\n",
       "      <td>B01003_001E</td>\n",
       "      <td>total population</td>\n",
       "      <td>TOTAL POPULATION: Estimate!!Total</td>\n",
       "    </tr>\n",
       "    <tr>\n",
       "      <th>10</th>\n",
       "      <td>B25008_001E</td>\n",
       "      <td>total population in occupied housing units</td>\n",
       "      <td>TOTAL POPULATION IN OCCUPIED HOUSING UNITS BY ...</td>\n",
       "    </tr>\n",
       "    <tr>\n",
       "      <th>11</th>\n",
       "      <td>B25002_002E</td>\n",
       "      <td>total occupied housing units</td>\n",
       "      <td>OCCUPANCY STATUS: Estimate!!Total!!Occupied</td>\n",
       "    </tr>\n",
       "    <tr>\n",
       "      <th>12</th>\n",
       "      <td>B25003_003E</td>\n",
       "      <td>total renter occupied housing units</td>\n",
       "      <td>TENURE: Estimate!!Total!!Renter occupied</td>\n",
       "    </tr>\n",
       "    <tr>\n",
       "      <th>13</th>\n",
       "      <td>B25002_001E</td>\n",
       "      <td>total housing units for which occupancy status...</td>\n",
       "      <td>OCCUPANCY STATUS: Estimate!!Total</td>\n",
       "    </tr>\n",
       "    <tr>\n",
       "      <th>14</th>\n",
       "      <td>B09020_021E</td>\n",
       "      <td>total 65+ living in group quarters</td>\n",
       "      <td>RELATIONSHIP BY HOUSEHOLD TYPE (INCLUDING LIVI...</td>\n",
       "    </tr>\n",
       "    <tr>\n",
       "      <th>15</th>\n",
       "      <td>B01001_026E</td>\n",
       "      <td>total female population</td>\n",
       "      <td>SEX BY AGE: Estimate!!Total!!Female</td>\n",
       "    </tr>\n",
       "    <tr>\n",
       "      <th>16</th>\n",
       "      <td>B11001_006E</td>\n",
       "      <td>total female-headed family households</td>\n",
       "      <td>HOUSEHOLD TYPE (INCLUDING LIVING ALONE): Estim...</td>\n",
       "    </tr>\n",
       "    <tr>\n",
       "      <th>17</th>\n",
       "      <td>B11001_001E</td>\n",
       "      <td>total households for which household type is k...</td>\n",
       "      <td>HOUSEHOLD TYPE (INCLUDING LIVING ALONE): Estim...</td>\n",
       "    </tr>\n",
       "    <tr>\n",
       "      <th>18</th>\n",
       "      <td>B25002_003E</td>\n",
       "      <td>total vacant housing units</td>\n",
       "      <td>OCCUPANCY STATUS: Estimate!!Total!!Vacant</td>\n",
       "    </tr>\n",
       "    <tr>\n",
       "      <th>19</th>\n",
       "      <td>B19025_001E</td>\n",
       "      <td>aggregate household income</td>\n",
       "      <td>AGGREGATE HOUSEHOLD INCOME IN THE PAST 12 MONT...</td>\n",
       "    </tr>\n",
       "    <tr>\n",
       "      <th>20</th>\n",
       "      <td>B23022_025E</td>\n",
       "      <td>total males unemployed for last 12 months</td>\n",
       "      <td>SEX BY WORK STATUS IN THE PAST 12 MONTHS BY US...</td>\n",
       "    </tr>\n",
       "    <tr>\n",
       "      <th>21</th>\n",
       "      <td>B23022_049E</td>\n",
       "      <td>total females unemployed for last 12 months</td>\n",
       "      <td>SEX BY WORK STATUS IN THE PAST 12 MONTHS BY US...</td>\n",
       "    </tr>\n",
       "    <tr>\n",
       "      <th>22</th>\n",
       "      <td>B23022_001E</td>\n",
       "      <td>total population for which unemployment and se...</td>\n",
       "      <td>SEX BY WORK STATUS IN THE PAST 12 MONTHS BY US...</td>\n",
       "    </tr>\n",
       "    <tr>\n",
       "      <th>23</th>\n",
       "      <td>B17021_002E</td>\n",
       "      <td>total population below poverty level</td>\n",
       "      <td>POVERTY STATUS OF INDIVIDUALS IN THE PAST 12 M...</td>\n",
       "    </tr>\n",
       "    <tr>\n",
       "      <th>24</th>\n",
       "      <td>B17021_001E</td>\n",
       "      <td>total population for which poverty information...</td>\n",
       "      <td>POVERTY STATUS OF INDIVIDUALS IN THE PAST 12 M...</td>\n",
       "    </tr>\n",
       "    <tr>\n",
       "      <th>25</th>\n",
       "      <td>B25024_010E</td>\n",
       "      <td>number of mobile home housing units in structure</td>\n",
       "      <td>UNITS IN STRUCTURE: Estimate!!Total!!Mobile home</td>\n",
       "    </tr>\n",
       "    <tr>\n",
       "      <th>26</th>\n",
       "      <td>B25024_001E</td>\n",
       "      <td>total housing units in structure</td>\n",
       "      <td>UNITS IN STRUCTURE: Estimate!!Total</td>\n",
       "    </tr>\n",
       "    <tr>\n",
       "      <th>27</th>\n",
       "      <td>C24010_038E</td>\n",
       "      <td>total female employed</td>\n",
       "      <td>SEX BY OCCUPATION FOR THE CIVILIAN EMPLOYED PO...</td>\n",
       "    </tr>\n",
       "    <tr>\n",
       "      <th>28</th>\n",
       "      <td>C24010_001E</td>\n",
       "      <td>total population for which sex and occupation ...</td>\n",
       "      <td>SEX BY OCCUPATION FOR THE CIVILIAN EMPLOYED PO...</td>\n",
       "    </tr>\n",
       "    <tr>\n",
       "      <th>29</th>\n",
       "      <td>B19055_002E</td>\n",
       "      <td>total households with social security income</td>\n",
       "      <td>SOCIAL SECURITY INCOME IN THE PAST 12 MONTHS F...</td>\n",
       "    </tr>\n",
       "    <tr>\n",
       "      <th>30</th>\n",
       "      <td>B19055_001E</td>\n",
       "      <td>total households for which social security inc...</td>\n",
       "      <td>SOCIAL SECURITY INCOME IN THE PAST 12 MONTHS F...</td>\n",
       "    </tr>\n",
       "    <tr>\n",
       "      <th>31</th>\n",
       "      <td>B09002_002E</td>\n",
       "      <td>total children in married couple families</td>\n",
       "      <td>OWN CHILDREN UNDER 18 YEARS BY FAMILY TYPE AND...</td>\n",
       "    </tr>\n",
       "    <tr>\n",
       "      <th>32</th>\n",
       "      <td>B09002_001E</td>\n",
       "      <td>total children for which family type and age a...</td>\n",
       "      <td>OWN CHILDREN UNDER 18 YEARS BY FAMILY TYPE AND...</td>\n",
       "    </tr>\n",
       "    <tr>\n",
       "      <th>33</th>\n",
       "      <td>B19001_017E</td>\n",
       "      <td>total households with over 200k income</td>\n",
       "      <td>HOUSEHOLD INCOME IN THE PAST 12 MONTHS (IN 201...</td>\n",
       "    </tr>\n",
       "    <tr>\n",
       "      <th>34</th>\n",
       "      <td>B06007_005E</td>\n",
       "      <td>total Spanish-speakers who speak english less ...</td>\n",
       "      <td>PLACE OF BIRTH BY LANGUAGE SPOKEN AT HOME AND ...</td>\n",
       "    </tr>\n",
       "    <tr>\n",
       "      <th>35</th>\n",
       "      <td>B06007_008E</td>\n",
       "      <td>total people who speak another language and sp...</td>\n",
       "      <td>PLACE OF BIRTH BY LANGUAGE SPOKEN AT HOME AND ...</td>\n",
       "    </tr>\n",
       "    <tr>\n",
       "      <th>36</th>\n",
       "      <td>B06007_001E</td>\n",
       "      <td>total population with known language spoken at...</td>\n",
       "      <td>PLACE OF BIRTH BY LANGUAGE SPOKEN AT HOME AND ...</td>\n",
       "    </tr>\n",
       "    <tr>\n",
       "      <th>37</th>\n",
       "      <td>B16010_002E</td>\n",
       "      <td>total population with less than a high school ...</td>\n",
       "      <td>EDUCATIONAL ATTAINMENT AND EMPLOYMENT STATUS B...</td>\n",
       "    </tr>\n",
       "    <tr>\n",
       "      <th>38</th>\n",
       "      <td>B16010_001E</td>\n",
       "      <td>total for which education, employment, languag...</td>\n",
       "      <td>EDUCATIONAL ATTAINMENT AND EMPLOYMENT STATUS B...</td>\n",
       "    </tr>\n",
       "    <tr>\n",
       "      <th>39</th>\n",
       "      <td>C24050_002E</td>\n",
       "      <td>total population in extractive industries</td>\n",
       "      <td>INDUSTRY BY OCCUPATION FOR THE CIVILIAN EMPLOY...</td>\n",
       "    </tr>\n",
       "    <tr>\n",
       "      <th>40</th>\n",
       "      <td>C24050_001E</td>\n",
       "      <td>total population for which industry known</td>\n",
       "      <td>INDUSTRY BY OCCUPATION FOR THE CIVILIAN EMPLOY...</td>\n",
       "    </tr>\n",
       "    <tr>\n",
       "      <th>41</th>\n",
       "      <td>C24050_029E</td>\n",
       "      <td>total people in service occupations</td>\n",
       "      <td>INDUSTRY BY OCCUPATION FOR THE CIVILIAN EMPLOY...</td>\n",
       "    </tr>\n",
       "    <tr>\n",
       "      <th>42</th>\n",
       "      <td>B08201_002E</td>\n",
       "      <td>total households with no available vehicle</td>\n",
       "      <td>HOUSEHOLD SIZE BY VEHICLES AVAILABLE: Estimate...</td>\n",
       "    </tr>\n",
       "    <tr>\n",
       "      <th>43</th>\n",
       "      <td>B08201_001E</td>\n",
       "      <td>total households for which vehicle status and ...</td>\n",
       "      <td>HOUSEHOLD SIZE BY VEHICLES AVAILABLE: Estimate...</td>\n",
       "    </tr>\n",
       "    <tr>\n",
       "      <th>44</th>\n",
       "      <td>B25064_001E</td>\n",
       "      <td>median gross rent</td>\n",
       "      <td>MEDIAN GROSS RENT (DOLLARS): Estimate!!Median ...</td>\n",
       "    </tr>\n",
       "    <tr>\n",
       "      <th>45</th>\n",
       "      <td>B25077_001E</td>\n",
       "      <td>median home value</td>\n",
       "      <td>MEDIAN VALUE (DOLLARS): Estimate!!Median value...</td>\n",
       "    </tr>\n",
       "  </tbody>\n",
       "</table>\n",
       "</div>"
      ],
      "text/plain": [
       "          Label                                              Alias  \\\n",
       "0         GEOID                        FIPS code unique identifier   \n",
       "1   B01002_001E                                         median age   \n",
       "2   B03002_001E  total population of respondents to race/ethnicity   \n",
       "3   B03002_004E                             total Black population   \n",
       "4   B03002_005E                   total Native American population   \n",
       "5   B03002_006E                             total Asian population   \n",
       "6   B03002_012E                            total Latinx population   \n",
       "7   B06001_002E              total population under 5 years of age   \n",
       "8   B09020_001E              total population over 65 years of age   \n",
       "9   B01003_001E                                   total population   \n",
       "10  B25008_001E         total population in occupied housing units   \n",
       "11  B25002_002E                       total occupied housing units   \n",
       "12  B25003_003E                total renter occupied housing units   \n",
       "13  B25002_001E  total housing units for which occupancy status...   \n",
       "14  B09020_021E                 total 65+ living in group quarters   \n",
       "15  B01001_026E                            total female population   \n",
       "16  B11001_006E              total female-headed family households   \n",
       "17  B11001_001E  total households for which household type is k...   \n",
       "18  B25002_003E                         total vacant housing units   \n",
       "19  B19025_001E                         aggregate household income   \n",
       "20  B23022_025E          total males unemployed for last 12 months   \n",
       "21  B23022_049E        total females unemployed for last 12 months   \n",
       "22  B23022_001E  total population for which unemployment and se...   \n",
       "23  B17021_002E               total population below poverty level   \n",
       "24  B17021_001E  total population for which poverty information...   \n",
       "25  B25024_010E   number of mobile home housing units in structure   \n",
       "26  B25024_001E                   total housing units in structure   \n",
       "27  C24010_038E                              total female employed   \n",
       "28  C24010_001E  total population for which sex and occupation ...   \n",
       "29  B19055_002E       total households with social security income   \n",
       "30  B19055_001E  total households for which social security inc...   \n",
       "31  B09002_002E          total children in married couple families   \n",
       "32  B09002_001E  total children for which family type and age a...   \n",
       "33  B19001_017E             total households with over 200k income   \n",
       "34  B06007_005E  total Spanish-speakers who speak english less ...   \n",
       "35  B06007_008E  total people who speak another language and sp...   \n",
       "36  B06007_001E  total population with known language spoken at...   \n",
       "37  B16010_002E  total population with less than a high school ...   \n",
       "38  B16010_001E  total for which education, employment, languag...   \n",
       "39  C24050_002E          total population in extractive industries   \n",
       "40  C24050_001E          total population for which industry known   \n",
       "41  C24050_029E                total people in service occupations   \n",
       "42  B08201_002E         total households with no available vehicle   \n",
       "43  B08201_001E  total households for which vehicle status and ...   \n",
       "44  B25064_001E                                  median gross rent   \n",
       "45  B25077_001E                                  median home value   \n",
       "\n",
       "                                           Definition  \n",
       "0   Unique code for every county and county-equiva...  \n",
       "1      MEDIAN AGE BY SEX: Estimate!!Median age!!Total  \n",
       "2   HISPANIC OR LATINO ORIGIN BY RACE: Estimate!!T...  \n",
       "3   HISPANIC OR LATINO ORIGIN BY RACE: Estimate!!T...  \n",
       "4   HISPANIC OR LATINO ORIGIN BY RACE: Estimate!!T...  \n",
       "5   HISPANIC OR LATINO ORIGIN BY RACE: Estimate!!T...  \n",
       "6   HISPANIC OR LATINO ORIGIN BY RACE: Estimate!!T...  \n",
       "7   PLACE OF BIRTH BY AGE IN THE UNITED STATES: Es...  \n",
       "8   RELATIONSHIP BY HOUSEHOLD TYPE (INCLUDING LIVI...  \n",
       "9                   TOTAL POPULATION: Estimate!!Total  \n",
       "10  TOTAL POPULATION IN OCCUPIED HOUSING UNITS BY ...  \n",
       "11        OCCUPANCY STATUS: Estimate!!Total!!Occupied  \n",
       "12           TENURE: Estimate!!Total!!Renter occupied  \n",
       "13                  OCCUPANCY STATUS: Estimate!!Total  \n",
       "14  RELATIONSHIP BY HOUSEHOLD TYPE (INCLUDING LIVI...  \n",
       "15                SEX BY AGE: Estimate!!Total!!Female  \n",
       "16  HOUSEHOLD TYPE (INCLUDING LIVING ALONE): Estim...  \n",
       "17  HOUSEHOLD TYPE (INCLUDING LIVING ALONE): Estim...  \n",
       "18          OCCUPANCY STATUS: Estimate!!Total!!Vacant  \n",
       "19  AGGREGATE HOUSEHOLD INCOME IN THE PAST 12 MONT...  \n",
       "20  SEX BY WORK STATUS IN THE PAST 12 MONTHS BY US...  \n",
       "21  SEX BY WORK STATUS IN THE PAST 12 MONTHS BY US...  \n",
       "22  SEX BY WORK STATUS IN THE PAST 12 MONTHS BY US...  \n",
       "23  POVERTY STATUS OF INDIVIDUALS IN THE PAST 12 M...  \n",
       "24  POVERTY STATUS OF INDIVIDUALS IN THE PAST 12 M...  \n",
       "25   UNITS IN STRUCTURE: Estimate!!Total!!Mobile home  \n",
       "26                UNITS IN STRUCTURE: Estimate!!Total  \n",
       "27  SEX BY OCCUPATION FOR THE CIVILIAN EMPLOYED PO...  \n",
       "28  SEX BY OCCUPATION FOR THE CIVILIAN EMPLOYED PO...  \n",
       "29  SOCIAL SECURITY INCOME IN THE PAST 12 MONTHS F...  \n",
       "30  SOCIAL SECURITY INCOME IN THE PAST 12 MONTHS F...  \n",
       "31  OWN CHILDREN UNDER 18 YEARS BY FAMILY TYPE AND...  \n",
       "32  OWN CHILDREN UNDER 18 YEARS BY FAMILY TYPE AND...  \n",
       "33  HOUSEHOLD INCOME IN THE PAST 12 MONTHS (IN 201...  \n",
       "34  PLACE OF BIRTH BY LANGUAGE SPOKEN AT HOME AND ...  \n",
       "35  PLACE OF BIRTH BY LANGUAGE SPOKEN AT HOME AND ...  \n",
       "36  PLACE OF BIRTH BY LANGUAGE SPOKEN AT HOME AND ...  \n",
       "37  EDUCATIONAL ATTAINMENT AND EMPLOYMENT STATUS B...  \n",
       "38  EDUCATIONAL ATTAINMENT AND EMPLOYMENT STATUS B...  \n",
       "39  INDUSTRY BY OCCUPATION FOR THE CIVILIAN EMPLOY...  \n",
       "40  INDUSTRY BY OCCUPATION FOR THE CIVILIAN EMPLOY...  \n",
       "41  INDUSTRY BY OCCUPATION FOR THE CIVILIAN EMPLOY...  \n",
       "42  HOUSEHOLD SIZE BY VEHICLES AVAILABLE: Estimate...  \n",
       "43  HOUSEHOLD SIZE BY VEHICLES AVAILABLE: Estimate...  \n",
       "44  MEDIAN GROSS RENT (DOLLARS): Estimate!!Median ...  \n",
       "45  MEDIAN VALUE (DOLLARS): Estimate!!Median value...  "
      ]
     },
     "execution_count": 72,
     "metadata": {},
     "output_type": "execute_result"
    }
   ],
   "source": [
    "# Import data dictionary\n",
    "rpl_vars = pd.read_csv( here(path[\"dmet\"], \"replication_vars.csv\") )\n",
    "rpl_vars.drop(columns=rpl_vars.columns[0], axis=1, inplace=True)\n",
    "\n",
    "acs_variables = list(rpl_vars['Label'][1:])\n",
    "rpl_vars"
   ]
  },
  {
   "cell_type": "markdown",
   "id": "8edb97cb-7411-4ea7-8cc2-17e2008580f3",
   "metadata": {
    "toc-hr-collapsed": true
   },
   "source": [
    "#### (1) 2008-2012 American Community Survey (5-year)"
   ]
  },
  {
   "cell_type": "code",
   "execution_count": 101,
   "id": "78c3c905-1571-448a-92e1-e609cebc745b",
   "metadata": {},
   "outputs": [
    {
     "data": {
      "text/markdown": [
       "- `Title`: American Community Survey 2012 5-year Estimate Demographic Variables\n",
       "- `Abstract`: The 5-year ACS provides estimates surrounding demographic information in the USA. These estimates are more reliable than 1-year and 3-year estimates but less reliable than decennial census data. On the other hand, 5-year estimates are less current than 1-year and 3-year estimates because they represent measurements taken over 60 months. See the [census website](https://www.census.gov/programs-surveys/acs/guidance/estimates.html) for more details.\n",
       "- `Spatial Coverage`: United States, excluding Puerto Rico\n",
       "- `Spatial Resolution`: County and county-equivalents\n",
       "- `Spatial Reference System`: None, just attribute data\n",
       "- `Temporal Coverage`: 2008-2012\n",
       "- `Temporal Resolution`: Data averaged over five years\n",
       "- `Lineage`: Obtained directly from the census via API.\n",
       "- `Distribution`: The replication data is distributed via a census API. See the detailed tables on the [census website](https://www.census.gov/data/developers/data-sets/acs-5year/2012.html) and instructions for drawing census data directly into python on the [pygris website](https://walker-data.com/pygris/).\n",
       "- `Constraints`: Census data is available in the public domain\n",
       "- `Data Quality`: Margin of error provided by the Census Bureau for relevant variables\n",
       "- `Variables`:  See RPl_ACS_2012_data_dictionary.csv\n"
      ],
      "text/plain": [
       "<IPython.core.display.Markdown object>"
      ]
     },
     "execution_count": 101,
     "metadata": {},
     "output_type": "execute_result"
    }
   ],
   "source": [
    "Markdown( here(path[\"dmet\"], \"RPl_ACS_2012_geographic_metadata.md\") )"
   ]
  },
  {
   "cell_type": "markdown",
   "id": "c5e7ba2d-632d-4ac5-84e4-7ff731c5be7c",
   "metadata": {},
   "source": [
    "#### (2) 2009-2013 American Community Survey (5-year)"
   ]
  },
  {
   "cell_type": "code",
   "execution_count": 102,
   "id": "14c5d818-9dd8-445f-a896-6dbdf23fba66",
   "metadata": {},
   "outputs": [
    {
     "data": {
      "text/markdown": [
       "- `Title`: American Community Survey 2013 5-year Estimate Demographic Variables\n",
       "- `Abstract`: The 5-year ACS provides estimates surrounding demographic information in the USA. These estimates are more reliable than 1-year and 3-year estimates but less reliable than decennial census data. On the other hand, 5-year estimates are less current than 1-year and 3-year estimates because they represent measurements taken over 60 months. See the [census website](https://www.census.gov/programs-surveys/acs/guidance/estimates.html) for more details.\n",
       "- `Spatial Coverage`: United States, excluding Puerto Rico\n",
       "- `Spatial Resolution`: County and county-equivalents\n",
       "- `Spatial Reference System`: None, just attribute data\n",
       "- `Temporal Coverage`: 2009-2013\n",
       "- `Temporal Resolution`: Data averaged over five years\n",
       "- `Lineage`: Obtained directly from the census via API.\n",
       "- `Distribution`: The replication data is distributed via a census API. See the detailed tables on the [census website](https://www.census.gov/data/developers/data-sets/acs-5year/2013.html) and instructions for drawing census data directly into python on the [pygris website](https://walker-data.com/pygris/).\n",
       "- `Constraints`: Census data is available in the public domain\n",
       "- `Data Quality`: Margin of error provided by the Census Bureau for relevant variables\n",
       "- `Variables`:  See RPl_ACS_2013_data_dictionary.csv\n"
      ],
      "text/plain": [
       "<IPython.core.display.Markdown object>"
      ]
     },
     "execution_count": 102,
     "metadata": {},
     "output_type": "execute_result"
    }
   ],
   "source": [
    "Markdown( here(path[\"dmet\"], \"RPl_ACS_2013_geographic_metadata.md\") )"
   ]
  },
  {
   "cell_type": "markdown",
   "id": "38bd7d41-97e3-480f-ad71-c748eb84f90e",
   "metadata": {},
   "source": [
    "#### (3) 2010-2014 American Community Survey (5-year)"
   ]
  },
  {
   "cell_type": "code",
   "execution_count": 103,
   "id": "5977f099-6679-4ed4-978e-fad092793aeb",
   "metadata": {},
   "outputs": [
    {
     "data": {
      "text/markdown": [
       "- `Title`: American Community Survey 2014 5-year Estimate Demographic Variables\n",
       "- `Abstract`: The 5-year ACS provides estimates surrounding demographic information in the USA. These estimates are more reliable than 1-year and 3-year estimates but less reliable than decennial census data. On the other hand, 5-year estimates are less current than 1-year and 3-year estimates because they represent measurements taken over 60 months. See the [census website](https://www.census.gov/programs-surveys/acs/guidance/estimates.html) for more details.\n",
       "- `Spatial Coverage`: United States, excluding Puerto Rico\n",
       "- `Spatial Resolution`: County and county-equivalents\n",
       "- `Spatial Reference System`: None, just attribute data\n",
       "- `Temporal Coverage`: 2010-2014\n",
       "- `Temporal Resolution`: Data averaged over five years\n",
       "- `Lineage`: Obtained directly from the census via API.\n",
       "- `Distribution`: The replication data is distributed via a census API. See the detailed tables on the [census website](https://www.census.gov/data/developers/data-sets/acs-5year/2014.html) and instructions for drawing census data directly into python on the [pygris website](https://walker-data.com/pygris/).\n",
       "- `Constraints`: Census data is available in the public domain\n",
       "- `Data Quality`: Margin of error provided by the Census Bureau for relevant variables\n",
       "- `Variables`:  See RPl_ACS_2014_data_dictionary.csv\n"
      ],
      "text/plain": [
       "<IPython.core.display.Markdown object>"
      ]
     },
     "execution_count": 103,
     "metadata": {},
     "output_type": "execute_result"
    }
   ],
   "source": [
    "Markdown( here(path[\"dmet\"], \"RPl_ACS_2014_geographic_metadata.md\") )"
   ]
  },
  {
   "cell_type": "markdown",
   "id": "df4dc59f-449c-468c-9322-0abb530d893b",
   "metadata": {},
   "source": [
    "#### (4) 2011-2015 American Community Survey (5-year)"
   ]
  },
  {
   "cell_type": "code",
   "execution_count": 104,
   "id": "4b9ff086-6932-4901-b69d-e278464b48f7",
   "metadata": {},
   "outputs": [
    {
     "data": {
      "text/markdown": [
       "- `Title`: American Community Survey 2015 5-year Estimate Demographic Variables\n",
       "- `Abstract`: The 5-year ACS provides estimates surrounding demographic information in the USA. These estimates are more reliable than 1-year and 3-year estimates but less reliable than decennial census data. On the other hand, 5-year estimates are less current than 1-year and 3-year estimates because they represent measurements taken over 60 months. See the [census website](https://www.census.gov/programs-surveys/acs/guidance/estimates.html) for more details.\n",
       "- `Spatial Coverage`: United States, excluding Puerto Rico\n",
       "- `Spatial Resolution`: County and county-equivalents\n",
       "- `Spatial Reference System`: None, just attribute data\n",
       "- `Temporal Coverage`: 2011-2015\n",
       "- `Temporal Resolution`: Data averaged over five years\n",
       "- `Lineage`: Obtained directly from the census via API.\n",
       "- `Distribution`: The replication data is distributed via a census API. See the detailed tables on the [census website](https://www.census.gov/data/developers/data-sets/acs-5year/2015.html) and instructions for drawing census data directly into python on the [pygris website](https://walker-data.com/pygris/).\n",
       "- `Constraints`: Census data is available in the public domain\n",
       "- `Data Quality`: Margin of error provided by the Census Bureau for relevant variables\n",
       "- `Variables`:  See RPl_ACS_2015_data_dictionary.csv\n"
      ],
      "text/plain": [
       "<IPython.core.display.Markdown object>"
      ]
     },
     "execution_count": 104,
     "metadata": {},
     "output_type": "execute_result"
    }
   ],
   "source": [
    "Markdown( here(path[\"dmet\"], \"RPl_ACS_2015_geographic_metadata.md\") )"
   ]
  },
  {
   "cell_type": "markdown",
   "id": "63d95937-e436-4363-9135-dd7be7142822",
   "metadata": {},
   "source": [
    "#### (5) 2012-2016 American Community Survey (5-year)"
   ]
  },
  {
   "cell_type": "code",
   "execution_count": 105,
   "id": "686e7913-2075-43e7-a468-e08f4f676855",
   "metadata": {},
   "outputs": [
    {
     "data": {
      "text/markdown": [
       "- `Title`: American Community Survey 2016 5-year Estimate Demographic Variables\n",
       "- `Abstract`: The 5-year ACS provides estimates surrounding demographic information in the USA. These estimates are more reliable than 1-year and 3-year estimates but less reliable than decennial census data. On the other hand, 5-year estimates are less current than 1-year and 3-year estimates because they represent measurements taken over 60 months. See the [census website](https://www.census.gov/programs-surveys/acs/guidance/estimates.html) for more details.\n",
       "- `Spatial Coverage`: United States, excluding Puerto Rico\n",
       "- `Spatial Resolution`: County and county-equivalents\n",
       "- `Spatial Reference System`: None, just attribute data\n",
       "- `Temporal Coverage`: 2012-2016\n",
       "- `Temporal Resolution`: Data averaged over five years\n",
       "- `Lineage`: Obtained directly from the census via API.\n",
       "- `Distribution`: The replication data is distributed via a census API. See the detailed tables on the [census website](https://www.census.gov/data/developers/data-sets/acs-5year/2016.html) and instructions for drawing census data directly into python on the [pygris website](https://walker-data.com/pygris/).\n",
       "- `Constraints`: Census data is available in the public domain\n",
       "- `Data Quality`: Margin of error provided by the Census Bureau for relevant variables\n",
       "- `Variables`:  See RPl_ACS_2016_data_dictionary.csv\n"
      ],
      "text/plain": [
       "<IPython.core.display.Markdown object>"
      ]
     },
     "execution_count": 105,
     "metadata": {},
     "output_type": "execute_result"
    }
   ],
   "source": [
    "Markdown( here(path[\"dmet\"], \"RPl_ACS_2016_geographic_metadata.md\") )"
   ]
  },
  {
   "cell_type": "markdown",
   "id": "032c6e9d-4867-4895-abfe-388bbd3145cc",
   "metadata": {},
   "source": [
    "#### (6) 2013-2017 American Community Survey (5-year)"
   ]
  },
  {
   "cell_type": "code",
   "execution_count": 106,
   "id": "2e3c7142-1bc9-4b10-8478-460cf5742f30",
   "metadata": {},
   "outputs": [
    {
     "data": {
      "text/markdown": [
       "- `Title`: American Community Survey 2017 5-year Estimate Demographic Variables\n",
       "- `Abstract`: The 5-year ACS provides estimates surrounding demographic information in the USA. These estimates are more reliable than 1-year and 3-year estimates but less reliable than decennial census data. On the other hand, 5-year estimates are less current than 1-year and 3-year estimates because they represent measurements taken over 60 months. See the [census website](https://www.census.gov/programs-surveys/acs/guidance/estimates.html) for more details.\n",
       "- `Spatial Coverage`: United States, excluding Puerto Rico\n",
       "- `Spatial Resolution`: County and county-equivalents\n",
       "- `Spatial Reference System`: None, just attribute data\n",
       "- `Temporal Coverage`: 2013-2017\n",
       "- `Temporal Resolution`: Data averaged over five years\n",
       "- `Lineage`: Obtained directly from the census via API.\n",
       "- `Distribution`: The replication data is distributed via a census API. See the detailed tables on the [census website](https://www.census.gov/data/developers/data-sets/acs-5year/2017.html) and instructions for drawing census data directly into python on the [pygris website](https://walker-data.com/pygris/).\n",
       "- `Constraints`: Census data is available in the public domain\n",
       "- `Data Quality`: Margin of error provided by the Census Bureau for relevant variables\n",
       "- `Variables`:  See RPl_ACS_2017_data_dictionary.csv\n"
      ],
      "text/plain": [
       "<IPython.core.display.Markdown object>"
      ]
     },
     "execution_count": 106,
     "metadata": {},
     "output_type": "execute_result"
    }
   ],
   "source": [
    "Markdown( here(path[\"dmet\"], \"RPl_ACS_2017_geographic_metadata.md\") )"
   ]
  },
  {
   "cell_type": "markdown",
   "id": "8d8c5bd1-1559-4e53-b598-451b1c7d9e3a",
   "metadata": {},
   "source": [
    "#### (7) 2014-2018 American Community Survey (5-year)"
   ]
  },
  {
   "cell_type": "code",
   "execution_count": 107,
   "id": "9eb2a9e8-56b2-41b0-84f9-6dc2a5f2e498",
   "metadata": {},
   "outputs": [
    {
     "data": {
      "text/markdown": [
       "- `Title`: American Community Survey 2018 5-year Estimate Demographic Variables\n",
       "- `Abstract`: The 5-year ACS provides estimates surrounding demographic information in the USA. These estimates are more reliable than 1-year and 3-year estimates but less reliable than decennial census data. On the other hand, 5-year estimates are less current than 1-year and 3-year estimates because they represent measurements taken over 60 months. See the [census website](https://www.census.gov/programs-surveys/acs/guidance/estimates.html) for more details.\n",
       "- `Spatial Coverage`: United States, excluding Puerto Rico\n",
       "- `Spatial Resolution`: County and county-equivalents\n",
       "- `Spatial Reference System`: None, just attribute data\n",
       "- `Temporal Coverage`: 2014-2018\n",
       "- `Temporal Resolution`: Data averaged over five years\n",
       "- `Lineage`: Obtained directly from the census via API.\n",
       "- `Distribution`: The replication data is distributed via a census API. See the detailed tables on the [census website](https://www.census.gov/data/developers/data-sets/acs-5year/2018.html) and instructions for drawing census data directly into python on the [pygris website](https://walker-data.com/pygris/).\n",
       "- `Constraints`: Census data is available in the public domain\n",
       "- `Data Quality`: Margin of error provided by the Census Bureau for relevant variables\n",
       "- `Variables`:  See RPl_ACS_2018_data_dictionary.csv\n"
      ],
      "text/plain": [
       "<IPython.core.display.Markdown object>"
      ]
     },
     "execution_count": 107,
     "metadata": {},
     "output_type": "execute_result"
    }
   ],
   "source": [
    "Markdown( here(path[\"dmet\"], \"RPl_ACS_2018_geographic_metadata.md\") )"
   ]
  },
  {
   "cell_type": "markdown",
   "id": "1cd0001a-7273-4d6c-998a-b72012a8819a",
   "metadata": {},
   "source": [
    "#### (8) 2015-2019 American Community Survey (5-year)"
   ]
  },
  {
   "cell_type": "code",
   "execution_count": 108,
   "id": "5050aa26-de43-409b-acf0-bde207766bdd",
   "metadata": {},
   "outputs": [
    {
     "data": {
      "text/markdown": [
       "- `Title`: American Community Survey 2019 5-year Estimate Demographic Variables\n",
       "- `Abstract`: The 5-year ACS provides estimates surrounding demographic information in the USA. These estimates are more reliable than 1-year and 3-year estimates but less reliable than decennial census data. On the other hand, 5-year estimates are less current than 1-year and 3-year estimates because they represent measurements taken over 60 months. See the [census website](https://www.census.gov/programs-surveys/acs/guidance/estimates.html) for more details.\n",
       "- `Spatial Coverage`: United States, excluding Puerto Rico\n",
       "- `Spatial Resolution`: County and county-equivalents\n",
       "- `Spatial Reference System`: None, just attribute data\n",
       "- `Temporal Coverage`: 2015-2019\n",
       "- `Temporal Resolution`: Data averaged over five years\n",
       "- `Lineage`: Obtained directly from the census via API.\n",
       "- `Distribution`: The replication data is distributed via a census API. See the detailed tables on the [census website](https://www.census.gov/data/developers/data-sets/acs-5year/2019.html) and instructions for drawing census data directly into python on the [pygris website](https://walker-data.com/pygris/).\n",
       "- `Constraints`: Census data is available in the public domain\n",
       "- `Data Quality`: Margin of error provided by the Census Bureau for relevant variables\n",
       "- `Variables`:  See RPl_ACS_2019_data_dictionary.csv\n"
      ],
      "text/plain": [
       "<IPython.core.display.Markdown object>"
      ]
     },
     "execution_count": 108,
     "metadata": {},
     "output_type": "execute_result"
    }
   ],
   "source": [
    "Markdown( here(path[\"dmet\"], \"RPl_ACS_2019_geographic_metadata.md\") )"
   ]
  },
  {
   "cell_type": "markdown",
   "id": "ab06db68-d9cf-44fb-9552-8f686c052642",
   "metadata": {},
   "source": [
    "#### (9) 2016-2020 American Community Survey (5-year)"
   ]
  },
  {
   "cell_type": "code",
   "execution_count": 109,
   "id": "045b295a-ab75-43f6-b084-0f4f27aea31f",
   "metadata": {},
   "outputs": [
    {
     "data": {
      "text/markdown": [
       "- `Title`: American Community Survey 2020 5-year Estimate Demographic Variables\n",
       "- `Abstract`: The 5-year ACS provides estimates surrounding demographic information in the USA. These estimates are more reliable than 1-year and 3-year estimates but less reliable than decennial census data. On the other hand, 5-year estimates are less current than 1-year and 3-year estimates because they represent measurements taken over 60 months. See the [census website](https://www.census.gov/programs-surveys/acs/guidance/estimates.html) for more details.\n",
       "- `Spatial Coverage`: United States, excluding Puerto Rico\n",
       "- `Spatial Resolution`: County and county-equivalents\n",
       "- `Spatial Reference System`: None, just attribute data\n",
       "- `Temporal Coverage`: 2016-2020\n",
       "- `Temporal Resolution`: Data averaged over five years\n",
       "- `Lineage`: Obtained directly from the census via API.\n",
       "- `Distribution`: The replication data is distributed via a census API. See the detailed tables on the [census website](https://www.census.gov/data/developers/data-sets/acs-5year/2020.html) and instructions for drawing census data directly into python on the [pygris website](https://walker-data.com/pygris/).\n",
       "- `Constraints`: Census data is available in the public domain\n",
       "- `Data Quality`: Margin of error provided by the Census Bureau for relevant variables\n",
       "- `Variables`:  See RPl_ACS_2020_data_dictionary.csv\n"
      ],
      "text/plain": [
       "<IPython.core.display.Markdown object>"
      ]
     },
     "execution_count": 109,
     "metadata": {},
     "output_type": "execute_result"
    }
   ],
   "source": [
    "Markdown( here(path[\"dmet\"], \"RPl_ACS_2020_geographic_metadata.md\") )"
   ]
  },
  {
   "cell_type": "markdown",
   "id": "85def84f-c3e7-4f3d-8464-259511b2c772",
   "metadata": {},
   "source": [
    "#### (10) 2017-2021 American Community Survey (5-year)"
   ]
  },
  {
   "cell_type": "code",
   "execution_count": 110,
   "id": "dee7e311-f280-4717-be71-959cec042ce2",
   "metadata": {},
   "outputs": [
    {
     "data": {
      "text/markdown": [
       "- `Title`: American Community Survey 2021 5-year Estimate Demographic Variables\n",
       "- `Abstract`: The 5-year ACS provides estimates surrounding demographic information in the USA. These estimates are more reliable than 1-year and 3-year estimates but less reliable than decennial census data. On the other hand, 5-year estimates are less current than 1-year and 3-year estimates because they represent measurements taken over 60 months. See the [census website](https://www.census.gov/programs-surveys/acs/guidance/estimates.html) for more details.\n",
       "- `Spatial Coverage`: United States, excluding Puerto Rico\n",
       "- `Spatial Resolution`: County and county-equivalents\n",
       "- `Spatial Reference System`: None, just attribute data\n",
       "- `Temporal Coverage`: 2017-2021\n",
       "- `Temporal Resolution`: Data averaged over five years\n",
       "- `Lineage`: Obtained directly from the census via API.\n",
       "- `Distribution`: The replication data is distributed via a census API. See the detailed tables on the [census website](https://www.census.gov/data/developers/data-sets/acs-5year/2021.html) and instructions for drawing census data directly into python on the [pygris website](https://walker-data.com/pygris/).\n",
       "- `Constraints`: Census data is available in the public domain\n",
       "- `Data Quality`: Margin of error provided by the Census Bureau for relevant variables\n",
       "- `Variables`:  See RPl_ACS_2021_data_dictionary.csv\n"
      ],
      "text/plain": [
       "<IPython.core.display.Markdown object>"
      ]
     },
     "execution_count": 110,
     "metadata": {},
     "output_type": "execute_result"
    }
   ],
   "source": [
    "Markdown( here(path[\"dmet\"], \"RPl_ACS_2021_geographic_metadata.md\") )"
   ]
  },
  {
   "cell_type": "markdown",
   "id": "19e39487-bdcd-4bc1-8f10-1b02cf2af4c1",
   "metadata": {},
   "source": [
    "#### (11) USA Counties Cartographic Boundaries"
   ]
  },
  {
   "cell_type": "code",
   "execution_count": 96,
   "id": "03dfa8d7-a08e-4411-8c37-855d0b18d170",
   "metadata": {},
   "outputs": [],
   "source": [
    "%%script echo skipping # Comment this first line out if you wish to acquire data directly from census\n",
    "# Acquire geographical data for reproduction\n",
    "counties_shp = counties(cb = True, year = 2010, cache = True) # year 2012 (and 2011) cartographic boundaries not available\n",
    "\n",
    "# Save raw data\n",
    "counties_shp.to_file( here(path[\"drpub2\"], \"counties_geometries_raw.gpkg\") )"
   ]
  },
  {
   "cell_type": "code",
   "execution_count": null,
   "id": "a353409b-5abc-4762-97cc-e0d0aeb18b05",
   "metadata": {},
   "outputs": [],
   "source": [
    "# Optionally, load data directly from the repository\n",
    "counties_shp = gpd.read_file( here(path[\"drpub2\"], \"counties_geometries_raw.gpkg\") )"
   ]
  },
  {
   "cell_type": "code",
   "execution_count": 113,
   "id": "c28364df-eabd-46eb-aa2f-b9b95dfad9f5",
   "metadata": {},
   "outputs": [
    {
     "data": {
      "text/markdown": [
       "- `Title`: USA Counties Cartographic Boundaries\n",
       "- `Abstract`: The cartographic boundary files provided by the US census are simplified representations of the MAF/TIGER files. We use the 2010 boundary file because the census has not made such a file available for 2012 or 2011 and the original paper also used land area from 2010. This shapefile provides the geometries of counties and county-equivalents in the United States, with limited attribute information including land area.\n",
       "- `Spatial Coverage`: United States, excluding Puerto Rico\n",
       "- `Spatial Resolution`: County and county-equivalents\n",
       "- `Spatial Reference System`: EPSG:4269\n",
       "- `Temporal Coverage`: 2010\n",
       "- `Temporal Resolution`: One-time observations\n",
       "- `Lineage`: We use [pygris](https://walker-data.com/pygris/) to pull the data directly from the census into python.\n",
       "- `Distribution`: This file is distributed via a census API. See more information on the [census website](https://www.census.gov/geographies/mapping-files/time-series/geo/carto-boundary-file.2010.html#list-tab-1556094155) and instructions for drawing census data directly into python on the [pygris website](https://walker-data.com/pygris/).\n",
       "- `Constraints`: Census data is available in the public domain\n",
       "- `Data Quality`: 1:500,000 scale\n",
       "- `Variables`:\n",
       "\n",
       "| Label | Alias | Definition | Type | Domain | Missing Data Value(s) | Missing Data Frequency |\n",
       "| :--: | :--: | :--: | :--: | :--: | :--: | :--: |\n",
       "| STATE | State-level FIPS code | State-level FIPS code | string | 01 - 56 | None | 0 |\n",
       "| COUNTY | County-level FIPS code | County-level FIPS code | string | 001 - 840 | None | 0 |\n",
       "| CENSUSAREA | land area | land area in square miles | float64 | 1.999 - 145504.789 | NaN | 0 |\n"
      ],
      "text/plain": [
       "<IPython.core.display.Markdown object>"
      ]
     },
     "execution_count": 113,
     "metadata": {},
     "output_type": "execute_result"
    }
   ],
   "source": [
    "Markdown( here(path[\"dmet\"], \"county_geom_2010_metadata.md\") )"
   ]
  },
  {
   "cell_type": "markdown",
   "id": "bb60cf3d-76dc-4e97-9901-24183e993412",
   "metadata": {},
   "source": [
    "### Prior observations\n",
    "\n",
    "At the time of this study pre-registration, the authors had examined the python code and data from the original study and modified the code to reproduce the original results in a current software environment.\n",
    "This study is related to [one prior study](https://osf.io/4s62b) by the authors, a reproduction of Spielman et al.'s [\"Evaluating Social Vulnerability Indicators\"](https://link.springer.com/article/10.1007/s11069-019-03820-z).\n",
    "\n",
    "We have already thoroughly observed datasets (1) and (11), as they were necessary to reproduce the original study.\n",
    "On the other hand, we have yet to thoroughly analyze datasets (2) through (10).\n",
    "We have imported these datasets into Python in order to generate the data in our metadata files, but we have yet to inspect, transform, and analyze the data.\n",
    "All of the work we have done with the data can be seen in our `generate_RPl_metadata.ipynb` file in the metadata folder. "
   ]
  },
  {
   "cell_type": "markdown",
   "id": "9b057276-7e40-4842-bba3-c4ca0ab5f57b",
   "metadata": {},
   "source": [
    "### Bias and threats to validity (ADD)\n",
    "\n",
    "Given the research design and primary data to be collected and/or secondary data to be used, discuss common threats to validity and the approach to mitigating those threats, with an emphasis on geographic threats to validity.\n",
    "\n",
    "These include:\n",
    "  - uneven primary data collection due to geographic inaccessibility or other constraints\n",
    "  - edge or boundary effects\n",
    "  - the modifiable areal unit problem\n",
    "  - nonstationarity\n",
    "  - spatial dependence or autocorrelation\n",
    "  - temporal dependence or autocorrelation\n",
    "  - spatial scale dependency\n",
    "  - spatial anisotropies\n",
    "  - confusion of spatial and a-spatial causation\n",
    "  - ecological fallacy\n",
    "  - uncertainty e.g. from spatial disaggregation, anonymization, differential privacy\n"
   ]
  },
  {
   "cell_type": "markdown",
   "id": "1d02df98-648b-4350-9d6d-9e67fb62906e",
   "metadata": {},
   "source": [
    "### Data transformations (ADD)\n",
    "A draft workflow diagram for this section is displayed below. (UPDATE TO INCLUDE DELETING SOME COUNTIES AND IMPUTATION OF RAW VARS WHEN NEEDED, ESPECIALLY 2018).\n",
    "This workflow is adapted from our reproduction report, so we know that it is sufficient for the 2012 5-year ACS data, but we may need to add additional imputation if there are NaN's caused by dividing by zero in step P2."
   ]
  },
  {
   "cell_type": "markdown",
   "id": "13988a56-258a-4bfa-96c5-529f0eea4c07",
   "metadata": {},
   "source": [
    "![Data Preparation Workflow](../../results/figures/workflow_data_transformations.png)"
   ]
  },
  {
   "cell_type": "markdown",
   "id": "85a2aa19-baa0-4f90-9ed3-26375019d6c9",
   "metadata": {},
   "source": [
    "Since we are working with census data from ten different years and we want to track changes in SoVI scores in counties over time, we have to account for changes in county boundaries over this time.\n",
    "Fortunately, the Census publishes information regarding such changes on its website.\n",
    "The changes for the 2010 decade are available [here](https://www.census.gov/programs-surveys/geography/technical-documentation/county-changes.2010.html#list-tab-957819518) and there were no such changes listed in the 2020 decade until 2022.\n",
    "\n",
    "Below is a list of all counties with relevant changes between 2012 and 2021:\n",
    "- Chugach Census Area, Alaska (02063). Created from 02261 in 2019.\n",
    "- Copper River Census Area, Alaska (02066). Created from 02261 in 2019.\n",
    "- Valdez-Cordova Census Area, Alaska (02261). Split into 02063 and 02066 in 2019.\n",
    "- Petersburg Borough, Alaska (02195). Created from 02195 and part of 02105 in 2013.\n",
    "- Hoonah-Angoon Census Area, Alaska (02105). Part given to 02195 in 2013.\n",
    "- Bedford (independent) city, Virginia (51515). Became a town, absorbed by Bedford County (51019).\n",
    "- Kusilvak Census Area, Alaska (02158). Changed name and code from Wade Hampton Census Area and 02270 in 2015.\n",
    "- Oglala Lakota County, South Dakota (46102). Changed name and code from Shannon County and 46113 in 2015.\n",
    "- Prince of Wales-Hyder Census Area, Alaska (02198). Added part of 02195 in 2013.\n",
    "- Bedford County, Virginia (51019). Added 51515 in 2013.\n",
    "\n",
    "In order to generate data comparable across all ten years of interest, we simply remove these counties from each dataset containing them, except for counties 02158 and 46102, which simply changed names and codes.\n",
    "For counties 02158 and 46102, we just adjust their FIPS codes to match.\n",
    "\n",
    "A final step of data transformation will be performed at the beginning of the SoVI model analysis.\n",
    "Each demographic variable will be normalized by calculating its z-score.\n",
    "\n",
    "### Analysis\n",
    "#### Principal Component Analysis"
   ]
  },
  {
   "cell_type": "markdown",
   "id": "b4844792-5872-4240-af81-14f250b4ba45",
   "metadata": {},
   "source": [
    "Spielman et al. constructed a class to conduct SPSS-style PCA with varimax rotation in python and validated their procedure against Cutter et al.'s SPSS workflow used to calculate SoVI.\n",
    "Below I include a workflow diagram that shows, without too much detail, the main operations and important outputs of their SPSS_PCA class. \n",
    "After that, I have included their relevant code."
   ]
  },
  {
   "cell_type": "markdown",
   "id": "e542db85-0392-44c4-894f-421948441ad7",
   "metadata": {},
   "source": [
    "![PCA Workflow](../../results/figures/workflow_PCA.png)"
   ]
  },
  {
   "cell_type": "code",
   "execution_count": null,
   "id": "f1182438-bf82-4ea1-abcd-a485ac631888",
   "metadata": {},
   "outputs": [],
   "source": [
    "class SPSS_PCA:\n",
    "\t'''\n",
    "\tA class that integrates most (all?) of the assumptions SPSS imbeds in their\n",
    "    implimnetation of principal components analysis (PCA), which can be found in\n",
    "    thier GUI under Analyze > Dimension Reduction > Factor. This class is not\n",
    "\tintended to be a full blown recreation of the SPSS Factor Analysis GUI, but\n",
    "\tit does replicate (possibly) the most common use cases. Note that this class\n",
    "\twill not produce exactly the same results as SPSS, probably due to differences\n",
    "\tin how eigenvectors/eigenvalues and/or singular values are computed. However,\n",
    "\tthis class does seem to get all the signs to match, which is not really necessary\n",
    "\tbut kinda nice. Most of the approach came from the official SPSS documentation.\n",
    "\n",
    "\tReferences\n",
    "\t----------\n",
    "\tftp://public.dhe.ibm.com/software/analytics/spss/documentation/statistics/20.0/en/client/Manuals/IBM_SPSS_Statistics_Algorithms.pdf\n",
    "\thttp://spssx-discussion.1045642.n5.nabble.com/Interpretation-of-PCA-td1074350.html\n",
    "\thttp://mdp-toolkit.sourceforge.net/api/mdp.nodes.WhiteningNode-class.html\n",
    "\thttps://github.com/mdp-toolkit/mdp-toolkit/blob/master/mdp/nodes/pca_nodes.py\n",
    "\n",
    "\tParameters\n",
    "\t----------\n",
    "\tinputs:  numpy array\n",
    "\t\t\t n x k numpy array; n observations and k variables on each observation\n",
    "\treduce:  boolean (default=False)\n",
    "\t\t\t If True, then use eigenvalues to determine which factors to keep; all\n",
    "\t\t\t results will be based on just these factors. If False use all factors.\n",
    "\tmin_eig: float (default=1.0)\n",
    "\t\t\t If reduce=True, then keep all factors with an eigenvalue greater than\n",
    "\t\t\t min_eig. SPSS default is 1.0. If reduce=False, then min_eig is ignored.\n",
    "\tvarimax: boolean (default=False)\n",
    "\t\t\t If True, then apply a varimax rotation to the results. If False, then\n",
    "\t\t\t return the unrotated results only.\n",
    "\n",
    "\tAttributes\n",
    "\t----------\n",
    "\tz_inputs:\tnumpy array\n",
    "\t\t\t\tz-scores of the input array.\n",
    "\tcomp_mat:\tnumpy array\n",
    "\t\t\t\tComponent matrix (a.k.a, \"loadings\").\n",
    "\tscores:\t\tnumpy array\n",
    "\t\t\t\tNew uncorrelated vectors associated with each observation.\n",
    "\teigenvals_all:\tnumpy array\n",
    "\t\t\t\tEigenvalues associated with each factor.\n",
    "\teigenvals:\tnumpy array\n",
    "\t\t\t\tSubset of eigenvalues_all reflecting only those that meet the\n",
    "\t\t\t\tcriterion defined by parameters reduce and min_eig.\n",
    "\tweights:    numpy array\n",
    "\t\t\t\tValues applied to the input data (after z-scores) to get the PCA\n",
    "\t\t\t\tscores. \"Component score coefficient matrix\" in SPSS or\n",
    "\t\t\t\t\"projection matrix\" in the MDP library.\n",
    "\tcomms: \t\tnumpy array\n",
    "\t\t\t\tCommunalities\n",
    "\tsum_sq_load: numpy array\n",
    "\t\t\t\t Sum of squared loadings.\n",
    "\tcomp_mat_rot: numpy array or None\n",
    "\t\t\t\t  Component matrix after rotation. Ordered from highest to lowest\n",
    "\t\t\t\t  variance explained based on sum_sq_load_rot. None if varimax=False.\n",
    "\tscores_rot:\tnumpy array or None\n",
    "\t\t\t\tUncorrelated vectors associated with each observation, after\n",
    "\t\t\t\trotation. None if varimax=False.\n",
    "\tweights_rot: numpy array or None\n",
    "\t\t\t\tRotated values applied to the input data (after z-scores) to get\n",
    "\t\t\t\tthe PCA\tscores. None if varimax=False.\n",
    "\tsum_sq_load_rot: numpy array or None\n",
    "\t\t\t\t Sum of squared loadings for rotated results. None if\n",
    "\t\t\t\t varimax=False.\n",
    "\n",
    "\t'''\n",
    "\n",
    "\tdef __init__(self, inputs, reduce=False, min_eig=1.0, varimax=False):\n",
    "        # Step S1\n",
    "\t\tz_inputs = ZSCORE(inputs)  # seems necessary for SPSS \"correlation matrix\" setting (their default)\n",
    "        \n",
    "        # The rest is step S2\n",
    "\t\t# run base SPSS-style PCA to get all eigenvalues\n",
    "\t\tpca_node = MDP.nodes.WhiteningNode()  # settings for the PCA\n",
    "\t\tscores = pca_node.execute(z_inputs)  # base run PCA\n",
    "\t\teigenvalues_all = pca_node.d   # rename PCA results\n",
    "\n",
    "\t\t# run SPSS-style PCA based on user settings\n",
    "\t\tpca_node = MDP.nodes.WhiteningNode(reduce=reduce, var_abs=min_eig)  # settings for the PCA\n",
    "\t\tscores = pca_node.execute(z_inputs)  # run PCA  (these have mean=0, std_dev=1)\n",
    "\t\tweights = pca_node.v  # rename PCA results (these might be a transformation of the eigenvectors)\n",
    "\t\teigenvalues = pca_node.d   # rename PCA results\n",
    "\t\tcomponent_matrix = weights * eigenvalues  # compute the loadings\n",
    "\t\tcomponent_matrix = self._reflect(component_matrix)   # get signs to match SPSS\n",
    "\t\tcommunalities = (component_matrix**2).sum(1)   # compute the communalities\n",
    "\t\tsum_sq_loadings = (component_matrix**2).sum(0) # note that this is the same as eigenvalues\n",
    "\t\tweights_reflected = component_matrix/eigenvalues  # get signs to match SPSS\n",
    "\t\tscores_reflected = np.dot(z_inputs, weights_reflected)  # note that abs(scores)=abs(scores_reflected)\n",
    "\n",
    "\t\tif varimax:\n",
    "\t\t\t# SPSS-style varimax rotation prep\n",
    "\t\t\tc_normalizer = 1. / MDP.numx.sqrt(communalities)  # used to normalize inputs to varimax\n",
    "\t\t\tc_normalizer.shape = (component_matrix.shape[0],1)  # reshape to vectorize normalization\n",
    "\t\t\tcm_normalized = c_normalizer * component_matrix  # normalize component matrix for varimax\n",
    "\n",
    "\t\t\t# varimax rotation\n",
    "\t\t\tcm_normalized_varimax = self._varimax(cm_normalized)  # run varimax\n",
    "\t\t\tc_normalizer2 = MDP.numx.sqrt(communalities)  # used to denormalize varimax output\n",
    "\t\t\tc_normalizer2.shape = (component_matrix.shape[0],1)  # reshape to vectorize denormalization\n",
    "\t\t\tcm_varimax = c_normalizer2 * cm_normalized_varimax  # denormalize varimax output\n",
    "\n",
    "\t\t\t# reorder varimax component matrix\n",
    "\t\t\tsorter = (cm_varimax**2).sum(0)  # base the ordering on sum of squared loadings\n",
    "\t\t\tsorter = zip(sorter.tolist(), range(sorter.shape[0]))  # add index to denote current order\n",
    "\t\t\tsorter = sorted(sorter, key=itemgetter(0), reverse=True)  # sort from largest to smallest\n",
    "\t\t\tsum_sq_loadings_varimax, reorderer = zip(*sorter)  # unzip the sorted list\n",
    "\t\t\tsum_sq_loadings_varimax = np.array(sum_sq_loadings_varimax)  # convert to array\n",
    "\t\t\tcm_varimax = cm_varimax[:,reorderer]  # reorder component matrix\n",
    "\n",
    "\t\t\t# varimax scores\n",
    "\t\t\tcm_varimax_reflected = self._reflect(cm_varimax)  # get signs to match SPSS\n",
    "\t\t\tvarimax_weights = np.dot(cm_varimax_reflected,\n",
    "\t\t\t\t\t\t\t  np.linalg.inv(np.dot(cm_varimax_reflected.T,\n",
    "\t\t\t\t\t\t\t  cm_varimax_reflected))) # CM(CM'CM)^-1\n",
    "\t\t\tscores_varimax = np.dot(z_inputs, varimax_weights)\n",
    "\t\telse:\n",
    "\t\t\tcomp_mat_rot = None\n",
    "\t\t\tscores_rot = None\n",
    "\t\t\tweights_rot = None\n",
    "\n",
    "\t\t# assign output variables\n",
    "\t\tself.z_inputs = z_inputs\n",
    "\t\tself.scores = scores_reflected\n",
    "\t\tself.comp_mat = component_matrix\n",
    "\t\tself.eigenvals_all = eigenvalues_all\n",
    "\t\tself.eigenvals = eigenvalues\n",
    "\t\tself.weights = weights_reflected\n",
    "\t\tself.comms = communalities\n",
    "\t\tself.sum_sq_load = sum_sq_loadings\n",
    "\t\tself.comp_mat_rot = cm_varimax_reflected\n",
    "\t\tself.scores_rot = scores_varimax # PCA scores output\n",
    "\t\tself.weights_rot = varimax_weights # PCA weights output\n",
    "\t\tself.sum_sq_load_rot = sum_sq_loadings_varimax\n",
    "\n",
    "\tdef _reflect(self, cm):\n",
    "\t\t# reflect factors with negative sums; SPSS default\n",
    "\t\tcm = copy.deepcopy(cm)\n",
    "\t\treflector = cm.sum(0)\n",
    "\t\tfor column, measure in enumerate(reflector):\n",
    "\t\t\tif measure < 0:\n",
    "\t\t\t\tcm[:,column] = -cm[:,column]\n",
    "\t\treturn cm\n",
    "\n",
    "\tdef _varimax(self, Phi, gamma = 1.0, q = 100, tol = 1e-6):\n",
    "\t\t# downloaded from http://en.wikipedia.org/wiki/Talk%3aVarimax_rotation\n",
    "\t\t# also here http://stackoverflow.com/questions/17628589/perform-varimax-rotation-in-python-using-numpy\n",
    "\t\tp,k = Phi.shape\n",
    "\t\tR = np.eye(k)\n",
    "\t\td=0\n",
    "\t\tfor i in range(q):\n",
    "\t\t\td_old = d\n",
    "\t\t\tLambda = np.dot(Phi, R)\n",
    "\t\t\tu,s,vh = np.linalg.svd(np.dot(Phi.T,np.asarray(Lambda)**3 - (gamma/p) *\n",
    "\t\t\t\t\t\t\tnp.dot(Lambda, np.diag(np.diag(np.dot(Lambda.T,Lambda))))))\n",
    "\t\t\tR = np.dot(u,vh)\n",
    "\t\t\td = np.sum(s)\n",
    "\t\t\tif d_old!=0 and d/d_old < 1 + tol:\n",
    "\t\t\t\tbreak\n",
    "\t\treturn np.dot(Phi, R)"
   ]
  },
  {
   "cell_type": "markdown",
   "id": "e9b133f6-632a-4091-bc21-d0c3df5ff21e",
   "metadata": {},
   "source": [
    "#### Calculating SoVI\n",
    "At this stage, we seek to calculate the SoVI ranks and variable weightings on the national, FEMA region, and state-level spatial extents. Below is a workflow for calculating SoVI. (ADD WORKFLOW)"
   ]
  },
  {
   "cell_type": "markdown",
   "id": "8bb65294-7d26-4764-aa0b-1a1782cafca8",
   "metadata": {},
   "source": [
    "#### Internal consistency analysis"
   ]
  },
  {
   "cell_type": "markdown",
   "id": "289d245e-b2af-4e37-8540-613ed8a65c0e",
   "metadata": {},
   "source": [
    "(ADD WORKFLOW)"
   ]
  },
  {
   "cell_type": "markdown",
   "id": "bd8a7d5d-0eb1-4dbc-86a2-fe7550de80b3",
   "metadata": {},
   "source": [
    "#### Theoretical consistency analysis\n",
    "\n",
    "(ADD WORKFLOW)"
   ]
  },
  {
   "cell_type": "markdown",
   "id": "b1ad915f-d24f-4ee7-ba5f-03b5fc33f346",
   "metadata": {},
   "source": [
    "## Results\n",
    "Describe how results are to be presented."
   ]
  },
  {
   "cell_type": "markdown",
   "id": "378180f4-22f0-4309-aa76-dea07c1ce4ae",
   "metadata": {},
   "source": [
    "### RPl-H1"
   ]
  },
  {
   "cell_type": "markdown",
   "id": "96f3a5e8-e9a5-4533-9d20-1f36171fbf2c",
   "metadata": {},
   "source": [
    "### RPl-H2"
   ]
  },
  {
   "cell_type": "markdown",
   "id": "47ff6716-c3ce-46c6-9e9e-0e904fc3a20f",
   "metadata": {},
   "source": [
    "## Discussion\n",
    "Describe how the results are to be interpreted *vis a vis* each hypothesis or research question.\n"
   ]
  },
  {
   "cell_type": "markdown",
   "id": "b04a925a-f6d7-4645-8e2c-3bc070982ef5",
   "metadata": {},
   "source": [
    "## Integrity Statement\n",
    "\n",
    "The authors of this preregistration state that they completed this preregistration to the best of their knowledge and that no other preregistration exists pertaining to the same hypotheses and research."
   ]
  },
  {
   "cell_type": "markdown",
   "id": "f6ca126f-5ba6-43bc-ab8d-60545787d1d3",
   "metadata": {},
   "source": [
    "## Acknowledgements\n",
    "\n",
    "- `Funding Name`: NSF Directorate for Social, Behavioral and Economic Sciences\n",
    "- `Funding Title`: Transforming theory-building and STEM education through reproductions and replications in the geographical sciences\n",
    "- `Award info URI`: https://www.nsf.gov/awardsearch/showAward?AWD_ID=2049837\n",
    "- `Award number`: BCS-2049837\n",
    "\n",
    "This report is based upon the template for Reproducible and Replicable Research in Human-Environment and Geographical Sciences, DOI:[10.17605/OSF.IO/W29MQ](https://doi.org/10.17605/OSF.IO/W29MQ)"
   ]
  },
  {
   "cell_type": "markdown",
   "id": "ba380294-7bfe-4eff-b61c-4cba8caff739",
   "metadata": {},
   "source": [
    "## References\n",
    "- Cutter, S. L., Boruff, B. J., & Shirley, W. L. (2003). Social Vulnerability to Environmental Hazards. Social Science Quarterly, 84(2), 242–261. https://doi.org/10.1111/1540-6237.8402002\n",
    "- Rey, S. J., & Anselin, L. (2007). PySAL: A Python Library of Spatial Analytical Methods. Review of Regional Studies, 37(1). https://doi.org/10.52324/001c.8285\n",
    "- Spielman, S. E., Tuccillo, J., Folch, D. C., Schweikert, A., Davies, R., Wood, N., & Tate, E. (2020). Evaluating Social Vulnerability Indicators: Criteria and their Application to the Social Vulnerability Index. Natural Hazards, 100(1), 417–436. https://doi.org/10.1007/s11069-019-03820-z"
   ]
  }
 ],
 "metadata": {
  "kernelspec": {
   "display_name": "Python [conda env:RPl-Spielman-2020]",
   "language": "python",
   "name": "conda-env-RPl-Spielman-2020-py"
  },
  "language_info": {
   "codemirror_mode": {
    "name": "ipython",
    "version": 3
   },
   "file_extension": ".py",
   "mimetype": "text/x-python",
   "name": "python",
   "nbconvert_exporter": "python",
   "pygments_lexer": "ipython3",
   "version": "3.9.16"
  }
 },
 "nbformat": 4,
 "nbformat_minor": 5
}
