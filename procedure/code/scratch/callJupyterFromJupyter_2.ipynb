{
 "cells": [
  {
   "cell_type": "markdown",
   "id": "5eb29938-9350-4a5d-842c-89e24b889b4b",
   "metadata": {},
   "source": [
    "## How to call a Jupyter notebook from a Jupyter notebook?\n",
    "- In the bar on the left side, right click on the notebook you want to run\n",
    "- Choose the \"copy path\" option (This actually didn't get me the complete file path. Instead I went to the document I wanted in finder and clicked on the file, did COMMAND + OPTION + C to copy the file path, and then pasted it. As long as you have the complete file path, it will work... to make this reproducible, we would want the file path from the root of the github repository and we would copy the file path to there at the beginning and paste this end onto it) \n",
    "- In the notebook that you want to run the other notebook from, use the ```%run```  magic like so:\n",
    "\n",
    "    ```%run <path of the notebook that has to be run>```\n",
    "\n",
    "Got this info here: https://docs.qubole.com/en/latest/user-guide/notebooks-and-dashboards/notebooks/jupyter-notebooks/running-jupy-notebooks.html"
   ]
  },
  {
   "cell_type": "code",
   "execution_count": 36,
   "id": "f506faed-d03b-4c82-8c36-699ec2e4dc3e",
   "metadata": {},
   "outputs": [
    {
     "name": "stdout",
     "output_type": "stream",
     "text": [
      "HELLO WORLD\n",
      "testing...\n",
      "0\n",
      "1\n",
      "2\n",
      "3\n",
      "4\n",
      "5\n",
      "6\n",
      "7\n",
      "8\n",
      "9\n"
     ]
    }
   ],
   "source": [
    "%run 'callJupyterFromJupyter_1.ipynb'"
   ]
  },
  {
   "cell_type": "code",
   "execution_count": 32,
   "id": "f157abb5-fbec-496d-99ef-07d1d3465b6a",
   "metadata": {},
   "outputs": [
    {
     "ename": "SyntaxError",
     "evalue": "invalid syntax (4217739008.py, line 1)",
     "output_type": "error",
     "traceback": [
      "\u001b[0;36m  File \u001b[0;32m\"/var/folders/v0/bc8r6b2510994_w9c67brgzh0000gn/T/ipykernel_23138/4217739008.py\"\u001b[0;36m, line \u001b[0;32m1\u001b[0m\n\u001b[0;31m    from 'callJupyterFromJupyter_1.ipynb' import SPSS_PCA\u001b[0m\n\u001b[0m         ^\u001b[0m\n\u001b[0;31mSyntaxError\u001b[0m\u001b[0;31m:\u001b[0m invalid syntax\n"
     ]
    }
   ],
   "source": [
    "from 'callJupyterFromJupyter_1.ipynb' import SPSS_PCA"
   ]
  },
  {
   "cell_type": "code",
   "execution_count": 37,
   "id": "6f28318c-13ae-4cd9-b2ce-0189cccc86be",
   "metadata": {},
   "outputs": [
    {
     "name": "stdout",
     "output_type": "stream",
     "text": [
      "asdf\n"
     ]
    }
   ],
   "source": [
    "a_function(\"asdf\")"
   ]
  }
 ],
 "metadata": {
  "kernelspec": {
   "display_name": "Python 3 (ipykernel)",
   "language": "python",
   "name": "python3"
  },
  "language_info": {
   "codemirror_mode": {
    "name": "ipython",
    "version": 3
   },
   "file_extension": ".py",
   "mimetype": "text/x-python",
   "name": "python",
   "nbconvert_exporter": "python",
   "pygments_lexer": "ipython3",
   "version": "3.9.13"
  }
 },
 "nbformat": 4,
 "nbformat_minor": 5
}
