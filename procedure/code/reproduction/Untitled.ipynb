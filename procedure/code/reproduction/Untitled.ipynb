{
 "cells": [
  {
   "cell_type": "markdown",
   "id": "b5e7f75b-0d62-4ae0-9cff-067c0d7862a2",
   "metadata": {},
   "source": [
    "\n",
    "### USA Counties Cartographic Boundaries\n",
    "\n",
    "**Standard Metadata**\n",
    "\n",
    "- `Abstract`: The cartographic boundary files provided by the US census are simplified representations of the MAF/TIGER files. We use the 2010 boundary file because the census has not made such a file available for 2012 or 2011 and the original paper also used land area from 2010. This shapefile provides the geometries of counties and county-equivalents in the United States, with limited attribute information including land area.\n",
    "- `Spatial Coverage`: United States, excluding Puerto Rico\n",
    "- `Spatial Resolution`: County and county-equivalents\n",
    "- `Spatial Reference System`: EPSG:4269\n",
    "- `Temporal Coverage`: Specify the temporal extent of your study---i.e. the range of time represented by the data observations.\n",
    "- `Temporal Resolution`: One-time observations\n",
    "- `Lineage`: We use [pygris](https://walker-data.com/pygris/) to pull the data directly from the census into python.\n",
    "- `Distribution`: This file is distributed via a census API. See more information on the [census website](https://www.census.gov/geographies/mapping-files/time-series/geo/carto-boundary-file.2010.html#list-tab-1556094155) and instructions for drawing census data directly into python on the [pygris website](https://walker-data.com/pygris/).\n",
    "- `Constraints`: Census data is available in the public domain\n",
    "- `Data Quality`: (ADD))\n",
    "- `Variables`: For each variable, enter the following information. If you have two or more variables per data source, you may want to present this information in table form (shown below)\n",
    "\n",
    "| Label | Alias | Definition | Type | Accuracy | Domain | Missing Data Value(s) | Missing Data Frequency |\n",
    "| :--: | :--: | :--: | :--: | :--: | :--: | :--: | :--: |\n",
    "| STATE | State-level FIPS code | State-level FIPS code | string | ... | 01 - 56 | None | 0 |\n",
    "| COUNTY | County-level FIPS code | County-level FIPS code | string | ... | 001 - 840 | None | 0 |\n",
    "| CENSUSAREA | land area | land area in square miles | float64 | ... | 1.999 - 145504.789 | nan | 0 |\n"
   ]
  }
 ],
 "metadata": {
  "kernelspec": {
   "display_name": "Python 3 (ipykernel)",
   "language": "python",
   "name": "python3"
  },
  "language_info": {
   "codemirror_mode": {
    "name": "ipython",
    "version": 3
   },
   "file_extension": ".py",
   "mimetype": "text/x-python",
   "name": "python",
   "nbconvert_exporter": "python",
   "pygments_lexer": "ipython3",
   "version": "3.9.13"
  }
 },
 "nbformat": 4,
 "nbformat_minor": 5
}
