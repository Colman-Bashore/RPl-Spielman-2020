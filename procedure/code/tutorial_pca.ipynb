{
 "cells": [
  {
   "cell_type": "markdown",
   "id": "910d6b25-1248-451e-9931-467afd97e554",
   "metadata": {},
   "source": [
    "### Ski-kit Learn PCA Tutorial\n",
    "https://www.jcchouinard.com/pca-with-python/#PCA_Examples_From_This_Tutorial"
   ]
  },
  {
   "cell_type": "code",
   "execution_count": null,
   "id": "970200f9-e8b7-4357-ab06-3ca6fa0b6359",
   "metadata": {},
   "outputs": [],
   "source": [
    "import pandas as pd \n",
    "from sklearn import datasets\n",
    "import sklearn\n",
    "from sklearn.preprocessing import StandardScaler\n",
    "from sklearn.decomposition import FactorAnalysis, PCA\n",
    "# iris = datasets.load_iris()\n",
    " \n",
    "# target_names = {\n",
    "#     0:'setosa',\n",
    "#     1:'versicolor', \n",
    "#     2:'virginica'\n",
    "# }\n",
    " \n",
    "# df = pd.DataFrame(\n",
    "#     iris.data, \n",
    "#     columns=iris.feature_names\n",
    "#     )\n",
    " \n",
    "# df['target'] = iris.target\n",
    "# df['target_names'] = df['target'].map(target_names)"
   ]
  },
  {
   "cell_type": "code",
   "execution_count": null,
   "id": "d98933f2-cb42-4384-8798-6cfa795b2723",
   "metadata": {},
   "outputs": [],
   "source": [
    "# load features and targets separately\n",
    "iris = datasets.load_iris()\n",
    "X = iris.data\n",
    "# y = iris.target"
   ]
  },
  {
   "cell_type": "code",
   "execution_count": null,
   "id": "f832bbe0-3b70-4547-a4c1-7c7272bdd7c8",
   "metadata": {},
   "outputs": [],
   "source": [
    "# data scaling\n",
    "x_scaled = StandardScaler().fit_transform(X)\n",
    "feature_names = iris[\"feature_names\"]"
   ]
  },
  {
   "cell_type": "code",
   "execution_count": null,
   "id": "9e1039a5-e022-480c-8e95-721cf4c6ec04",
   "metadata": {},
   "outputs": [],
   "source": [
    "fa = FactorAnalysis(rotation=\"varimax\", n_components=2).fit_transform(x_scaled)"
   ]
  },
  {
   "cell_type": "code",
   "execution_count": null,
   "id": "80f52233-c2f0-46cc-94cc-6270fee7b20b",
   "metadata": {},
   "outputs": [],
   "source": [
    "?FactorAnalysis"
   ]
  },
  {
   "cell_type": "code",
   "execution_count": null,
   "id": "3571f73a-d252-4593-8815-e46058b8457c",
   "metadata": {},
   "outputs": [],
   "source": [
    "pca = PCA(n_components=3)\n",
    " \n",
    "pca_features = pca.fit_transform(x_scaled)\n",
    " \n",
    "print('Shape before PCA: ', x_scaled.shape)\n",
    "print('Shape after PCA: ', pca_features.shape)\n",
    " \n",
    "pca_df = pd.DataFrame(\n",
    "    data=pca_features, \n",
    "    columns=['PC1', 'PC2', 'PC3'])"
   ]
  },
  {
   "cell_type": "code",
   "execution_count": null,
   "id": "538920ab-0fc3-4409-b5a3-30a2c2419f36",
   "metadata": {},
   "outputs": [],
   "source": [
    "pca.explained_variance_ # eigenvalue"
   ]
  },
  {
   "cell_type": "markdown",
   "id": "06b8befe-7dc9-4ec2-99f5-23d94d99f1ef",
   "metadata": {},
   "source": [
    "## Tutorial from Kaggle\n",
    "https://www.kaggle.com/code/gianinamariapetrascu/pca-varimax-rotation"
   ]
  },
  {
   "cell_type": "code",
   "execution_count": 1,
   "id": "b6c6ce33-9587-4263-8567-e3d1b5f9b595",
   "metadata": {},
   "outputs": [],
   "source": [
    "# Modules, file paths, general set-up\n",
    "import numpy as np \n",
    "import pandas as pd \n",
    "import matplotlib.pyplot as plt\n",
    "import seaborn as sns\n",
    "from sklearn.decomposition import PCA\n",
    "from sklearn.feature_selection import mutual_info_regression\n",
    "from factor_analyzer import FactorAnalyzer\n",
    "from pyhere import here\n",
    "\n",
    "plt.style.use(\"seaborn-darkgrid\")\n",
    "plt.rc(\"figure\", autolayout=True)\n",
    "plt.rc(\n",
    "    \"axes\",\n",
    "    labelweight=\"bold\",\n",
    "    labelsize=\"large\",\n",
    "    titleweight=\"bold\",\n",
    "    titlesize=14,\n",
    "    titlepad=10,\n",
    ")\n",
    "\n",
    "path = {\n",
    "    \"dscr\": here(\"data\", \"scratch\"),\n",
    "    \"drpub\": here(\"data\", \"raw\", \"public\"),\n",
    "    \"drpriv\": here(\"data\", \"raw\", \"private\"),\n",
    "    \"ddpub\": here(\"data\", \"derived\", \"public\"),\n",
    "    \"ddpriv\": here(\"data\", \"derived\", \"private\"),\n",
    "    \"rfig\": here(\"results\", \"figures\"),\n",
    "    \"roth\": here(\"results\", \"other\"),\n",
    "    \"rtab\": here(\"results\", \"tables\")\n",
    "}"
   ]
  },
  {
   "cell_type": "code",
   "execution_count": 2,
   "id": "31a4d528-cce5-4ca1-8cb3-fd4fb29b6fcd",
   "metadata": {},
   "outputs": [
    {
     "data": {
      "text/html": [
       "<div>\n",
       "<style scoped>\n",
       "    .dataframe tbody tr th:only-of-type {\n",
       "        vertical-align: middle;\n",
       "    }\n",
       "\n",
       "    .dataframe tbody tr th {\n",
       "        vertical-align: top;\n",
       "    }\n",
       "\n",
       "    .dataframe thead th {\n",
       "        text-align: right;\n",
       "    }\n",
       "</style>\n",
       "<table border=\"1\" class=\"dataframe\">\n",
       "  <thead>\n",
       "    <tr style=\"text-align: right;\">\n",
       "      <th></th>\n",
       "      <th>Rank</th>\n",
       "      <th>Title</th>\n",
       "      <th>Popularity</th>\n",
       "      <th>Genre</th>\n",
       "      <th>Studio</th>\n",
       "      <th>Type</th>\n",
       "      <th>Episodes</th>\n",
       "      <th>Duration</th>\n",
       "      <th>Start_date</th>\n",
       "      <th>End_date</th>\n",
       "      <th>Members</th>\n",
       "      <th>Score</th>\n",
       "    </tr>\n",
       "  </thead>\n",
       "  <tbody>\n",
       "    <tr>\n",
       "      <th>0</th>\n",
       "      <td>1</td>\n",
       "      <td>Shingeki no Kyojin: The Final Season - Kankets...</td>\n",
       "      <td>609</td>\n",
       "      <td>Action, Drama, Suspense</td>\n",
       "      <td>MAPPA</td>\n",
       "      <td>Special</td>\n",
       "      <td>2.0</td>\n",
       "      <td>61</td>\n",
       "      <td>23-Mar</td>\n",
       "      <td>2023</td>\n",
       "      <td>347875.0</td>\n",
       "      <td>9.17</td>\n",
       "    </tr>\n",
       "    <tr>\n",
       "      <th>1</th>\n",
       "      <td>2</td>\n",
       "      <td>Fullmetal Alchemist: Brotherhood</td>\n",
       "      <td>3</td>\n",
       "      <td>Action, Adventure, Drama, Fantasy</td>\n",
       "      <td>Bones</td>\n",
       "      <td>TV</td>\n",
       "      <td>64.0</td>\n",
       "      <td>24</td>\n",
       "      <td>9-Apr</td>\n",
       "      <td>10-Jul</td>\n",
       "      <td>3109951.0</td>\n",
       "      <td>9.11</td>\n",
       "    </tr>\n",
       "    <tr>\n",
       "      <th>2</th>\n",
       "      <td>3</td>\n",
       "      <td>Bleach: Sennen Kessen-hen</td>\n",
       "      <td>508</td>\n",
       "      <td>Action, Adventure, Fantasy</td>\n",
       "      <td>Pierrot</td>\n",
       "      <td>TV</td>\n",
       "      <td>13.0</td>\n",
       "      <td>24</td>\n",
       "      <td>22-Oct</td>\n",
       "      <td>22-Dec</td>\n",
       "      <td>404036.0</td>\n",
       "      <td>9.09</td>\n",
       "    </tr>\n",
       "    <tr>\n",
       "      <th>3</th>\n",
       "      <td>4</td>\n",
       "      <td>Steins;Gate</td>\n",
       "      <td>13</td>\n",
       "      <td>Drama, Sci-Fi, Suspense</td>\n",
       "      <td>White Fox</td>\n",
       "      <td>TV</td>\n",
       "      <td>24.0</td>\n",
       "      <td>24</td>\n",
       "      <td>11-Apr</td>\n",
       "      <td>11-Sep</td>\n",
       "      <td>2393767.0</td>\n",
       "      <td>9.08</td>\n",
       "    </tr>\n",
       "    <tr>\n",
       "      <th>4</th>\n",
       "      <td>5</td>\n",
       "      <td>Gintama°</td>\n",
       "      <td>335</td>\n",
       "      <td>Action, Comedy, Sci-Fi</td>\n",
       "      <td>Bandai Namco Pictures</td>\n",
       "      <td>TV</td>\n",
       "      <td>51.0</td>\n",
       "      <td>24</td>\n",
       "      <td>15-Apr</td>\n",
       "      <td>16-Mar</td>\n",
       "      <td>581994.0</td>\n",
       "      <td>9.07</td>\n",
       "    </tr>\n",
       "  </tbody>\n",
       "</table>\n",
       "</div>"
      ],
      "text/plain": [
       "   Rank                                              Title  Popularity  \\\n",
       "0     1  Shingeki no Kyojin: The Final Season - Kankets...         609   \n",
       "1     2                   Fullmetal Alchemist: Brotherhood           3   \n",
       "2     3                          Bleach: Sennen Kessen-hen         508   \n",
       "3     4                                        Steins;Gate          13   \n",
       "4     5                                           Gintama°         335   \n",
       "\n",
       "                               Genre                 Studio     Type  \\\n",
       "0            Action, Drama, Suspense                  MAPPA  Special   \n",
       "1  Action, Adventure, Drama, Fantasy                  Bones       TV   \n",
       "2         Action, Adventure, Fantasy                Pierrot       TV   \n",
       "3            Drama, Sci-Fi, Suspense              White Fox       TV   \n",
       "4             Action, Comedy, Sci-Fi  Bandai Namco Pictures       TV   \n",
       "\n",
       "   Episodes  Duration Start_date End_date    Members  Score  \n",
       "0       2.0        61     23-Mar     2023   347875.0   9.17  \n",
       "1      64.0        24      9-Apr   10-Jul  3109951.0   9.11  \n",
       "2      13.0        24     22-Oct   22-Dec   404036.0   9.09  \n",
       "3      24.0        24     11-Apr   11-Sep  2393767.0   9.08  \n",
       "4      51.0        24     15-Apr   16-Mar   581994.0   9.07  "
      ]
     },
     "execution_count": 2,
     "metadata": {},
     "output_type": "execute_result"
    }
   ],
   "source": [
    "# Read data\n",
    "anime = pd.read_csv(here(path[\"dscr\"], 'top250_anime.csv'))\n",
    "anime.head()"
   ]
  },
  {
   "cell_type": "code",
   "execution_count": 4,
   "id": "3c363bb7-c467-4936-9c62-9c27e24056c6",
   "metadata": {},
   "outputs": [],
   "source": [
    "# Drop missing data\n",
    "anime = anime.dropna()"
   ]
  },
  {
   "cell_type": "code",
   "execution_count": 5,
   "id": "25b726df-ae84-42e6-8429-60a3091a68a2",
   "metadata": {},
   "outputs": [],
   "source": [
    "# Separate predictor from predicting vars (think the tutorial uses PCA as input in regression model)\n",
    "y = anime['Score']\n",
    "anime1 = anime.drop(['Score'], axis=1)\n",
    "\n",
    "num_cols = [col for col in anime1.columns if anime1[col].dtype in ['int64','float64']]"
   ]
  },
  {
   "cell_type": "code",
   "execution_count": 6,
   "id": "e95b8568-0518-456e-a0e1-d060a348d7aa",
   "metadata": {},
   "outputs": [
    {
     "data": {
      "text/html": [
       "<div>\n",
       "<style scoped>\n",
       "    .dataframe tbody tr th:only-of-type {\n",
       "        vertical-align: middle;\n",
       "    }\n",
       "\n",
       "    .dataframe tbody tr th {\n",
       "        vertical-align: top;\n",
       "    }\n",
       "\n",
       "    .dataframe thead th {\n",
       "        text-align: right;\n",
       "    }\n",
       "</style>\n",
       "<table border=\"1\" class=\"dataframe\">\n",
       "  <thead>\n",
       "    <tr style=\"text-align: right;\">\n",
       "      <th></th>\n",
       "      <th>Variance</th>\n",
       "    </tr>\n",
       "  </thead>\n",
       "  <tbody>\n",
       "    <tr>\n",
       "      <th>Rank</th>\n",
       "      <td>5.174420e+03</td>\n",
       "    </tr>\n",
       "    <tr>\n",
       "      <th>Popularity</th>\n",
       "      <td>9.001405e+05</td>\n",
       "    </tr>\n",
       "    <tr>\n",
       "      <th>Episodes</th>\n",
       "      <td>5.834239e+02</td>\n",
       "    </tr>\n",
       "    <tr>\n",
       "      <th>Duration</th>\n",
       "      <td>1.281889e+03</td>\n",
       "    </tr>\n",
       "    <tr>\n",
       "      <th>Members</th>\n",
       "      <td>4.642127e+11</td>\n",
       "    </tr>\n",
       "  </tbody>\n",
       "</table>\n",
       "</div>"
      ],
      "text/plain": [
       "                Variance\n",
       "Rank        5.174420e+03\n",
       "Popularity  9.001405e+05\n",
       "Episodes    5.834239e+02\n",
       "Duration    1.281889e+03\n",
       "Members     4.642127e+11"
      ]
     },
     "execution_count": 6,
     "metadata": {},
     "output_type": "execute_result"
    }
   ],
   "source": [
    "# variance among numerircal features\n",
    "var = anime1[num_cols].var()\n",
    "\n",
    "# create DataFrame from variance values\n",
    "var_df = pd.DataFrame({'Variance': var})\n",
    "\n",
    "# print Variance DataFrame\n",
    "var_df"
   ]
  },
  {
   "cell_type": "code",
   "execution_count": 7,
   "id": "dc4c12eb-a053-435f-a66b-f1fa0f5d8a95",
   "metadata": {},
   "outputs": [
    {
     "data": {
      "text/html": [
       "<div>\n",
       "<style scoped>\n",
       "    .dataframe tbody tr th:only-of-type {\n",
       "        vertical-align: middle;\n",
       "    }\n",
       "\n",
       "    .dataframe tbody tr th {\n",
       "        vertical-align: top;\n",
       "    }\n",
       "\n",
       "    .dataframe thead th {\n",
       "        text-align: right;\n",
       "    }\n",
       "</style>\n",
       "<table border=\"1\" class=\"dataframe\">\n",
       "  <thead>\n",
       "    <tr style=\"text-align: right;\">\n",
       "      <th></th>\n",
       "      <th>CV</th>\n",
       "    </tr>\n",
       "  </thead>\n",
       "  <tbody>\n",
       "    <tr>\n",
       "      <th>Rank</th>\n",
       "      <td>57.726556</td>\n",
       "    </tr>\n",
       "    <tr>\n",
       "      <th>Popularity</th>\n",
       "      <td>115.566377</td>\n",
       "    </tr>\n",
       "    <tr>\n",
       "      <th>Episodes</th>\n",
       "      <td>134.189826</td>\n",
       "    </tr>\n",
       "    <tr>\n",
       "      <th>Duration</th>\n",
       "      <td>84.422578</td>\n",
       "    </tr>\n",
       "    <tr>\n",
       "      <th>Members</th>\n",
       "      <td>102.470629</td>\n",
       "    </tr>\n",
       "  </tbody>\n",
       "</table>\n",
       "</div>"
      ],
      "text/plain": [
       "                    CV\n",
       "Rank         57.726556\n",
       "Popularity  115.566377\n",
       "Episodes    134.189826\n",
       "Duration     84.422578\n",
       "Members     102.470629"
      ]
     },
     "execution_count": 7,
     "metadata": {},
     "output_type": "execute_result"
    }
   ],
   "source": [
    "# calculate coefficient of variation (CV)\n",
    "cv = (anime1[num_cols].std() / anime1[num_cols].mean())*100\n",
    "\n",
    "# create DataFrame from CV values\n",
    "cv_df = pd.DataFrame({'CV': cv})\n",
    "\n",
    "# print CV DataFrame\n",
    "cv_df"
   ]
  },
  {
   "cell_type": "markdown",
   "id": "32938169-5d1a-47cb-bbb5-d03fb49c370a",
   "metadata": {},
   "source": [
    "### Principle Component Analysis"
   ]
  },
  {
   "cell_type": "code",
   "execution_count": 8,
   "id": "f0fc3991-e5d4-4214-ba40-284f47bcaa5b",
   "metadata": {},
   "outputs": [
    {
     "name": "stdout",
     "output_type": "stream",
     "text": [
      "Shape of X_norm DataFrame: (244, 5)\n"
     ]
    }
   ],
   "source": [
    "# Calculate Z-Scores\n",
    "features = ['Rank','Popularity','Episodes','Duration','Members']\n",
    "\n",
    "X = anime[features]\n",
    "\n",
    "# normalizing features\n",
    "X_norm = (X - X.mean(axis=0))/X.std(axis=0)\n",
    "print(\"Shape of X_norm DataFrame:\", X_norm.shape)"
   ]
  },
  {
   "cell_type": "code",
   "execution_count": 9,
   "id": "2ca83d88-478a-4160-8491-350efe0eb2f7",
   "metadata": {},
   "outputs": [
    {
     "data": {
      "text/plain": [
       "array([[-1.72193541, -0.22387053, -0.66377312,  0.52029517, -0.46626478],\n",
       "       [-1.70800509, -0.86391369,  1.90834773, -0.51524821,  3.59600604],\n",
       "       [-1.69407478, -0.33054439, -0.2074291 , -0.51524821, -0.38366706],\n",
       "       ...,\n",
       "       [ 1.71885247,  0.76048627,  1.36903206, -0.51524821, -0.78614731],\n",
       "       [ 1.73278278,  0.20704962, -0.2074291 , -0.54323587, -0.66358982],\n",
       "       [ 1.7467131 ,  1.36356324,  2.53063503, -0.48726055, -0.85493634]])"
      ]
     },
     "execution_count": 9,
     "metadata": {},
     "output_type": "execute_result"
    }
   ],
   "source": [
    "# Calculate Z-Scores another way \n",
    "# Weird that it is slightly different here. I can actually see the equation in the former version, so I'll go with that instead\n",
    "from sklearn.preprocessing import StandardScaler\n",
    "x_scaled = StandardScaler().fit_transform(X)\n",
    "x_scaled"
   ]
  },
  {
   "cell_type": "code",
   "execution_count": 10,
   "id": "30617c80-a465-4900-91d1-4875a8eea08e",
   "metadata": {},
   "outputs": [
    {
     "name": "stdout",
     "output_type": "stream",
     "text": [
      "Shape of PCA DataFrame: (244, 5)\n"
     ]
    }
   ],
   "source": [
    "# principal component analysis on features\n",
    "pca = PCA()\n",
    "\n",
    "# fit and transform X_norm to PCA dataframe\n",
    "X_pca = pca.fit_transform(X_norm)\n",
    "\n",
    "# converting to dataframe\n",
    "names = [f\"PC{i+1}\" for i in range(X_pca.shape[1])]\n",
    "X_pcadf = pd.DataFrame(X_pca, columns=names)\n",
    "print(\"Shape of PCA DataFrame:\", X_pcadf.shape)"
   ]
  },
  {
   "cell_type": "code",
   "execution_count": 11,
   "id": "f2217c28-7d82-48b1-9bad-0186668b3104",
   "metadata": {},
   "outputs": [
    {
     "data": {
      "image/png": "[encoded data removed]",
      "text/plain": [
       "<Figure size 600x600 with 2 Axes>"
      ]
     },
     "metadata": {},
     "output_type": "display_data"
    }
   ],
   "source": [
    "# create covariance matrix\n",
    "corr_matrix = np.corrcoef(X_norm.T)\n",
    "\n",
    "# create heatmap\n",
    "plt.figure(figsize=(6, 6))\n",
    "sns.heatmap(corr_matrix, cmap='magma', annot=True, fmt='.2f',\n",
    "            xticklabels=anime1[num_cols].columns, yticklabels=anime1[num_cols].columns)\n",
    "\n",
    "# set plot title\n",
    "plt.title('Feature Correlation Heatmap')\n",
    "\n",
    "# show plot\n",
    "plt.show()"
   ]
  },
  {
   "cell_type": "code",
   "execution_count": 12,
   "id": "9750da36-98a2-407e-b035-a0ca32662e97",
   "metadata": {},
   "outputs": [],
   "source": [
    "# calculate eigenvectors and eigenvalues\n",
    "eigenvalues, eigenvectors = np.linalg.eig(corr_matrix)\n",
    "\n",
    "# sort the eigenvalues and eigenvectors in descending order\n",
    "idx = eigenvalues.argsort()[::-1]\n",
    "eigenvalues = eigenvalues[idx]\n",
    "\n",
    "# convert to dataframes\n",
    "eigenvalues_df = pd.DataFrame({'Eigenvalue': eigenvalues}, index=anime1[num_cols].columns)\n",
    "eigenvalues_df['Proportion'] = eigenvalues_df['Eigenvalue'] / eigenvalues_df['Eigenvalue'].sum()\n",
    "eigenvalues_df['Cumulative Proportion'] = eigenvalues_df['Proportion'].cumsum()\n",
    "\n",
    "# display dataframes\n",
    "print(\"Eigenvalues:\")\n",
    "display(eigenvalues_df.style.format({'Eigenvalue': '{:.4f}', 'Proportion': '{:.4f}', 'Cumulative Proportion': '{:.4f}'}))"
   ]
  },
  {
   "cell_type": "code",
   "execution_count": 13,
   "id": "7e25e92c-d4e1-4c60-8a72-9590b1fa0246",
   "metadata": {},
   "outputs": [
    {
     "data": {
      "text/plain": [
       "array([1.85644444, 1.25947695, 0.88643725, 0.5881805 , 0.40946086])"
      ]
     },
     "execution_count": 16,
     "metadata": {},
     "output_type": "execute_result"
    }
   ],
   "source": [
    "eigenvalues"
   ]
  },
  {
   "cell_type": "code",
   "execution_count": null,
   "id": "d48c7153-151a-4b36-89f2-717d9e3a511b",
   "metadata": {},
   "outputs": [],
   "source": [
    "# plot scree plot\n",
    "plt.plot(range(1, len(eigenvalues) + 1), eigenvalues, marker='o', color='#8080ff')\n",
    "plt.xlabel('Principal Component')\n",
    "plt.ylabel('Eigenvalue')\n",
    "plt.title('Scree Plot')\n",
    "plt.show()"
   ]
  },
  {
   "cell_type": "markdown",
   "id": "57f3e024-a98d-4981-a010-3a923c65fd1e",
   "metadata": {},
   "source": [
    "We can select the eigenvalues of at least 1 (Kaiser criterion I think?)"
   ]
  },
  {
   "cell_type": "code",
   "execution_count": null,
   "id": "bc74f2f4-31b2-4960-91e7-9ad1fc02da20",
   "metadata": {},
   "outputs": [],
   "source": [
    "evr = pca.explained_variance_ratio_\n",
    "print(evr)\n",
    "features = ['Rank', 'Popularity', 'Episodes', 'Duration', 'Members']\n",
    "\n",
    "# plot the EVR using matplotlib pyplot    \n",
    "plt.figure(figsize=(12,6))\n",
    "sns.barplot(x=np.array(features), y=evr, color='#8080ff')\n",
    "plt.xlabel(\"Components features\")\n",
    "plt.ylabel(\"%Explained variance ratio\")\n",
    "plt.show()"
   ]
  },
  {
   "cell_type": "code",
   "execution_count": null,
   "id": "0f6ba90b-7364-4ab0-87ae-7e8c5d0d1a29",
   "metadata": {},
   "outputs": [],
   "source": [
    "evc = np.cumsum(pca.explained_variance_)\n",
    "print(evc)\n",
    "\n",
    "features = ['Rank', 'Popularity', 'Episodes', 'Duration', 'Members']\n",
    "\n",
    "plt.figure(figsize=(12,6))\n",
    "sns.lineplot(x=np.array(features), y=evc, color='#8080ff')\n",
    "plt.xlabel(\"Components features\")\n",
    "plt.ylabel(\"Cummulative explained variance\")\n",
    "plt.ylim(1,6)\n",
    "plt.show;"
   ]
  },
  {
   "cell_type": "code",
   "execution_count": null,
   "id": "8a189bd0-622b-4a1b-851d-d96ca9b0c879",
   "metadata": {},
   "outputs": [],
   "source": [
    "loadings = pd.DataFrame(pca.components_.T[:,:2], index=np.array(features), columns=names[:2])\n",
    "loadings"
   ]
  },
  {
   "cell_type": "markdown",
   "id": "e6f46f4e-a775-4f54-bdfe-927d9be7d391",
   "metadata": {},
   "source": [
    "### Varimax Rotation"
   ]
  },
  {
   "cell_type": "code",
   "execution_count": null,
   "id": "71878a16-eecf-4bd1-840d-1506e6cb1219",
   "metadata": {},
   "outputs": [],
   "source": [
    "features = ['Rank', 'Popularity', 'Episodes', 'Duration', 'Members']\n",
    "X = anime1[features]\n",
    "\n",
    "# normalizing features\n",
    "X_norm = (X - X.mean(axis=0)) / X.std(axis=0)\n",
    "\n",
    "# fit factor analyzer with principal components and varimax rotation\n",
    "fa = FactorAnalyzer(rotation=\"varimax\", n_factors=2, method='principal')\n",
    "fa.fit(X_norm)\n",
    "\n",
    "# get the rotated factor pattern\n",
    "loadings2 = pd.DataFrame(fa.loadings_, index=X_norm.columns, columns=[f\"Factor{i+1}\" for i in range(2)])\n",
    "rotated_factor_pattern = loadings2[abs(loadings2) >= 0.4].dropna(how='all')\n",
    "loadings2\n",
    "# # why did they declare any loading less than 0.4 as not needed in that factor? \n",
    "# # what does it mean for a loading of an entry of a vector to be NaN?\n",
    "\n",
    "# # display the results\n",
    "# loadings2\n",
    "# # rotated_factor_pattern"
   ]
  },
  {
   "cell_type": "markdown",
   "id": "af496478-864a-4fb4-ac10-bb8514925cbd",
   "metadata": {},
   "source": [
    "## Other Software Options, Links...\n",
    "https://pypi.org/project/advanced-pca/\n",
    "\n",
    "https://github.com/bmcmenamin/fa_kit\n",
    "\n",
    "https://github.com/scikit-learn/scikit-learn/issues/2688"
   ]
  },
  {
   "cell_type": "code",
   "execution_count": null,
   "id": "f9b58de3-438c-4f1b-9c51-824193a9d325",
   "metadata": {},
   "outputs": [],
   "source": [
    "pip install advanced-pca"
   ]
  }
 ],
 "metadata": {
  "kernelspec": {
   "display_name": "Python 3 (ipykernel)",
   "language": "python",
   "name": "python3"
  },
  "language_info": {
   "codemirror_mode": {
    "name": "ipython",
    "version": 3
   },
   "file_extension": ".py",
   "mimetype": "text/x-python",
   "name": "python",
   "nbconvert_exporter": "python",
   "pygments_lexer": "ipython3",
   "version": "3.9.13"
  }
 },
 "nbformat": 4,
 "nbformat_minor": 5
}
