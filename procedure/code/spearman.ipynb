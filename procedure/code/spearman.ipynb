{
 "cells": [
  {
   "cell_type": "markdown",
   "id": "8fcd202c-f3d6-4103-a4b3-b3575de06ec6",
   "metadata": {},
   "source": [
    "# Runs! Region results match, state do not"
   ]
  },
  {
   "cell_type": "code",
   "execution_count": 34,
   "id": "265080bf-e7c3-4424-8f64-81ef9ddf29d9",
   "metadata": {},
   "outputs": [],
   "source": [
    "# Import modules, define directories\n",
    "import pandas as pd\n",
    "from scipy.stats import spearmanr\n",
    "from pyhere import here\n",
    "\n",
    "# from spss_pca import SPSS_PCA\n",
    "# import compute_sovis\n",
    "\n",
    "pd.set_option(\"chained_assignment\", None)\n",
    "\n",
    "path = {\n",
    "    \"dscr\": here(\"data\", \"scratch\"),\n",
    "    \"drpub\": here(\"data\", \"raw\", \"public\", \"spielman\", \"input\"),\n",
    "    \"drpriv\": here(\"data\", \"raw\", \"private\"),\n",
    "    \"ddpub\": here(\"data\", \"derived\", \"public\"),\n",
    "    \"ddpriv\": here(\"data\", \"derived\", \"private\"),\n",
    "    \"rfig\": here(\"results\", \"figures\"),\n",
    "    \"roth\": here(\"results\", \"other\"),\n",
    "    \"rtab\": here(\"results\", \"tables\")\n",
    "}"
   ]
  },
  {
   "cell_type": "code",
   "execution_count": 35,
   "id": "bc8bd29c-5a39-4d49-9e12-1ae4c0209f1e",
   "metadata": {},
   "outputs": [],
   "source": [
    "state_id = ['g51', 'g48', 'g36', 'g06', 'g13', 'g16', 'g17', 'g29', 'g46', 'g23g33g25']\n",
    "rank = pd.read_csv( here(path[\"ddpub\"], 'County_in_State_Rank.csv') ) \n",
    "# rank['Geo_FIPS'] = rank.index\n",
    "# rank.index = range(len(rank))\n",
    "state = pd.read_csv( here(path[\"ddpub\"], \"State_Sovi_Score.csv\") )\n",
    "# state['Geo_FIPS'] = state.index\n",
    "# state.index = range(len(state))"
   ]
  },
  {
   "cell_type": "code",
   "execution_count": 36,
   "id": "0b1da9e2-6a6b-4341-a295-62821caa10eb",
   "metadata": {},
   "outputs": [],
   "source": [
    "# create column names for dataframe based on state ids\n",
    "# columns for r values\n",
    "corr = [s + '_r' for s in state_id]\n",
    "# columns for p values\n",
    "pval = [x + '_p' for x in state_id]\n",
    "cols = corr + pval\n",
    "# create dataframe to store results\n",
    "state_results = pd.DataFrame(index = ['Region', 'US'], columns=cols)"
   ]
  },
  {
   "cell_type": "code",
   "execution_count": 37,
   "id": "80160385-5bd6-4a37-9548-2d07803cd776",
   "metadata": {},
   "outputs": [
    {
     "name": "stdout",
     "output_type": "stream",
     "text": [
      "g51\n",
      "g48\n",
      "g36\n",
      "g06\n",
      "g13\n",
      "g16\n",
      "g17\n",
      "g29\n",
      "g46\n",
      "g23g33g25\n"
     ]
    }
   ],
   "source": [
    "for ID in state_id:\n",
    "    print(ID)\n",
    "    st = state[state['state_id'] == ID]\n",
    "    select = rank[rank['GEOID'].isin(st['GEOID'])]\n",
    "    st_reg = spearmanr(select['state_sovi_rank'], select['fema_region_sovi_rank'])\n",
    "    st_US = spearmanr(select['state_sovi_rank'], select['us_sovi_rank'])\n",
    "    state_results[ID+'_r']['Region'] = st_reg[0]\n",
    "    state_results[ID+'_p']['Region'] = st_reg[1]\n",
    "    state_results[ID+'_r']['US'] = st_US[0]\n",
    "    state_results[ID+'_p']['US'] = st_US[1]\n",
    "    \n",
    "state_results.to_csv( here(path[\"ddpub\"], 'spearman_state.csv') )"
   ]
  },
  {
   "cell_type": "code",
   "execution_count": null,
   "id": "cdb25679-023a-4a8d-8394-e3e0b7e39b1a",
   "metadata": {},
   "outputs": [],
   "source": [
    "US_Sovi_Score = pd.read_csv( here(path[\"ddpub\"], 'US_Sovi_Score.csv') )\n",
    "FEMA_Region_Sovi_Score = pd.read_csv( here(path[\"ddpub\"], 'FEMA_Region_Sovi_Score.csv') )\n",
    "county_in_region_rank = pd.DataFrame(index=FEMA_Region_Sovi_Score.index,\n",
    "                                     columns=['fema_region_sovi_rank', 'us_sovi_rank', 'GEOID'])\n",
    "\n",
    "regionList = ['FEMA_1', 'FEMA_2', 'FEMA_3', 'FEMA_4', 'FEMA_5', 'FEMA_6', 'FEMA_7', 'FEMA_8', 'FEMA_9', 'FEMA_10']\n"
   ]
  },
  {
   "cell_type": "code",
   "execution_count": null,
   "id": "912be874-a40e-4453-bbd9-83c597744021",
   "metadata": {},
   "outputs": [],
   "source": [
    "for region in regionList:\n",
    "    x = FEMA_Region_Sovi_Score[FEMA_Region_Sovi_Score['fema_region'] == region]\n",
    "    # get all counties in region and rank for us\n",
    "    rg_cty_scores = US_Sovi_Score[US_Sovi_Score.index.isin(x.index)]\n",
    "    county_in_region_rank.loc[rg_cty_scores.index, 'us_sovi_rank'] = abs(rg_cty_scores.sovi).rank(method='average',\n",
    "                                                                                                  ascending=False)\n",
    "    # get all counties in state and rank for fema region\n",
    "    county_in_region_rank.loc[rg_cty_scores.index, 'fema_region_sovi_rank'] = abs(x.sovi).rank(method='average',\n",
    "                                                                                               ascending=False)\n",
    "    county_in_region_rank.loc[rg_cty_scores.index, 'GEOID'] = rg_cty_scores.GEOID\n",
    "\n",
    "county_in_region_rank.to_csv( here(path[\"ddpub\"], 'County_in_Region_Rank.csv') )\n"
   ]
  },
  {
   "cell_type": "code",
   "execution_count": null,
   "id": "5c990ebb-1098-4848-b296-4842bc056c3b",
   "metadata": {},
   "outputs": [],
   "source": [
    "rank = county_in_region_rank\n",
    "# rank['Geo_FIPS'] = rank.index\n",
    "# rank.index = range(len(rank))\n",
    "corrReg = [s + '_r' for s in regionList]\n",
    "# columns for p values\n",
    "pvalReg = [x + '_p' for x in regionList]\n",
    "colsReg = corrReg + pvalReg\n",
    "# create dataframe to store results\n",
    "region_results = pd.DataFrame(index = ['US'], columns=colsReg)"
   ]
  },
  {
   "cell_type": "code",
   "execution_count": null,
   "id": "0d842ae1-e2a1-4962-b6d9-312d555c865f",
   "metadata": {},
   "outputs": [],
   "source": [
    "for ID in regionList:\n",
    "    print(ID)\n",
    "    rg = FEMA_Region_Sovi_Score[FEMA_Region_Sovi_Score['fema_region'] == ID]\n",
    "    rank = county_in_region_rank\n",
    "    select = rank[rank['GEOID'].isin(rg['GEOID'])]\n",
    "    reg_us = spearmanr(select['fema_region_sovi_rank'], select['us_sovi_rank'])\n",
    "    region_results[ID+'_r'] = reg_us[0]\n",
    "    region_results[ID+'_p'] = reg_us[1]\n",
    "region_results.to_csv( here(path[\"ddpub\"], 'spearman_region.csv') )\n",
    "    "
   ]
  }
 ],
 "metadata": {
  "kernelspec": {
   "display_name": "Python [conda env:RPl-Spielman-2020]",
   "language": "python",
   "name": "conda-env-RPl-Spielman-2020-py"
  },
  "language_info": {
   "codemirror_mode": {
    "name": "ipython",
    "version": 3
   },
   "file_extension": ".py",
   "mimetype": "text/x-python",
   "name": "python",
   "nbconvert_exporter": "python",
   "pygments_lexer": "ipython3",
   "version": "3.9.16"
  }
 },
 "nbformat": 4,
 "nbformat_minor": 5
}
